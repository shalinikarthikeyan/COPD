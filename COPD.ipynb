{
  "nbformat": 4,
  "nbformat_minor": 0,
  "metadata": {
    "colab": {
      "provenance": [],
      "authorship_tag": "ABX9TyOXwtCMswk48f14NrcyGt5V",
      "include_colab_link": true
    },
    "kernelspec": {
      "name": "python3",
      "display_name": "Python 3"
    },
    "language_info": {
      "name": "python"
    }
  },
  "cells": [
    {
      "cell_type": "markdown",
      "metadata": {
        "id": "view-in-github",
        "colab_type": "text"
      },
      "source": [
        "<a href=\"https://colab.research.google.com/github/Subhash-K45/python/blob/main/COPD/COPD.ipynb\" target=\"_parent\"><img src=\"https://colab.research.google.com/assets/colab-badge.svg\" alt=\"Open In Colab\"/></a>"
      ]
    },
    {
      "cell_type": "code",
      "execution_count": 1,
      "metadata": {
        "id": "uriLc1FwlspS"
      },
      "outputs": [],
      "source": [
        "import pandas as pd\n",
        "import numpy as np\n",
        "import matplotlib.pyplot as plt\n",
        "import seaborn as sns"
      ]
    },
    {
      "cell_type": "code",
      "source": [
        "from sklearn.ensemble import RandomForestClassifier\n",
        "from sklearn.svm import SVC\n",
        "import tensorflow as tf\n",
        "from tensorflow.keras import layers,models\n",
        "from sklearn.model_selection import train_test_split\n",
        "from sklearn.preprocessing import StandardScaler"
      ],
      "metadata": {
        "id": "xwfrano8U7s_"
      },
      "execution_count": 2,
      "outputs": []
    },
    {
      "cell_type": "code",
      "source": [
        "from sklearn.metrics import classification_report,accuracy_score\n",
        "import warnings\n",
        "warnings.filterwarnings('ignore')"
      ],
      "metadata": {
        "id": "tZPG2G7YaYbi"
      },
      "execution_count": 3,
      "outputs": []
    },
    {
      "cell_type": "code",
      "source": [
        "scaler = StandardScaler()\n",
        "rfc = RandomForestClassifier(n_estimators=1000,max_depth = 2,random_state=42,)\n",
        "svc = SVC(kernel = 'linear')"
      ],
      "metadata": {
        "id": "_eHkyap3Vw4s"
      },
      "execution_count": 4,
      "outputs": []
    },
    {
      "cell_type": "code",
      "source": [
        "data  = pd.read_csv('COPD.csv')"
      ],
      "metadata": {
        "id": "LoOb0L93mECz"
      },
      "execution_count": 5,
      "outputs": []
    },
    {
      "cell_type": "code",
      "source": [
        "data.head()"
      ],
      "metadata": {
        "colab": {
          "base_uri": "https://localhost:8080/",
          "height": 290
        },
        "id": "rP2SlQ3QmI4e",
        "outputId": "8c68830b-774c-4983-fcfb-d830c5e276a1"
      },
      "execution_count": 6,
      "outputs": [
        {
          "output_type": "execute_result",
          "data": {
            "text/plain": [
              "   Unnamed: 0   ID  AGE  PackHistory COPDSEVERITY   MWT1   MWT2  MWT1Best  \\\n",
              "0           1   58   77         60.0       SEVERE  120.0  120.0     120.0   \n",
              "1           2   57   79         50.0     MODERATE  165.0  176.0     176.0   \n",
              "2           3   62   80         11.0     MODERATE  201.0  180.0     201.0   \n",
              "3           4  145   56         60.0  VERY SEVERE  210.0  210.0     210.0   \n",
              "4           5  136   65         68.0       SEVERE  204.0  210.0     210.0   \n",
              "\n",
              "   FEV1  FEV1PRED  ...   SGRQ  AGEquartiles  copd  gender  smoking  Diabetes  \\\n",
              "0  1.21      36.0  ...  69.55             4     3       1        2         1   \n",
              "1  1.09      56.0  ...  44.24             4     2       0        2         1   \n",
              "2  1.52      68.0  ...  44.09             4     2       0        2         1   \n",
              "3  0.47      14.0  ...  62.04             1     4       1        2         0   \n",
              "4  1.07      42.0  ...  75.56             1     3       1        2         0   \n",
              "\n",
              "   muscular  hypertension  AtrialFib  IHD  \n",
              "0         0             0          1    0  \n",
              "1         0             0          1    1  \n",
              "2         0             0          1    0  \n",
              "3         0             1          1    0  \n",
              "4         1             1          0    0  \n",
              "\n",
              "[5 rows x 24 columns]"
            ],
            "text/html": [
              "\n",
              "  <div id=\"df-6cb16887-f728-4a9d-ad22-861cab4af629\" class=\"colab-df-container\">\n",
              "    <div>\n",
              "<style scoped>\n",
              "    .dataframe tbody tr th:only-of-type {\n",
              "        vertical-align: middle;\n",
              "    }\n",
              "\n",
              "    .dataframe tbody tr th {\n",
              "        vertical-align: top;\n",
              "    }\n",
              "\n",
              "    .dataframe thead th {\n",
              "        text-align: right;\n",
              "    }\n",
              "</style>\n",
              "<table border=\"1\" class=\"dataframe\">\n",
              "  <thead>\n",
              "    <tr style=\"text-align: right;\">\n",
              "      <th></th>\n",
              "      <th>Unnamed: 0</th>\n",
              "      <th>ID</th>\n",
              "      <th>AGE</th>\n",
              "      <th>PackHistory</th>\n",
              "      <th>COPDSEVERITY</th>\n",
              "      <th>MWT1</th>\n",
              "      <th>MWT2</th>\n",
              "      <th>MWT1Best</th>\n",
              "      <th>FEV1</th>\n",
              "      <th>FEV1PRED</th>\n",
              "      <th>...</th>\n",
              "      <th>SGRQ</th>\n",
              "      <th>AGEquartiles</th>\n",
              "      <th>copd</th>\n",
              "      <th>gender</th>\n",
              "      <th>smoking</th>\n",
              "      <th>Diabetes</th>\n",
              "      <th>muscular</th>\n",
              "      <th>hypertension</th>\n",
              "      <th>AtrialFib</th>\n",
              "      <th>IHD</th>\n",
              "    </tr>\n",
              "  </thead>\n",
              "  <tbody>\n",
              "    <tr>\n",
              "      <th>0</th>\n",
              "      <td>1</td>\n",
              "      <td>58</td>\n",
              "      <td>77</td>\n",
              "      <td>60.0</td>\n",
              "      <td>SEVERE</td>\n",
              "      <td>120.0</td>\n",
              "      <td>120.0</td>\n",
              "      <td>120.0</td>\n",
              "      <td>1.21</td>\n",
              "      <td>36.0</td>\n",
              "      <td>...</td>\n",
              "      <td>69.55</td>\n",
              "      <td>4</td>\n",
              "      <td>3</td>\n",
              "      <td>1</td>\n",
              "      <td>2</td>\n",
              "      <td>1</td>\n",
              "      <td>0</td>\n",
              "      <td>0</td>\n",
              "      <td>1</td>\n",
              "      <td>0</td>\n",
              "    </tr>\n",
              "    <tr>\n",
              "      <th>1</th>\n",
              "      <td>2</td>\n",
              "      <td>57</td>\n",
              "      <td>79</td>\n",
              "      <td>50.0</td>\n",
              "      <td>MODERATE</td>\n",
              "      <td>165.0</td>\n",
              "      <td>176.0</td>\n",
              "      <td>176.0</td>\n",
              "      <td>1.09</td>\n",
              "      <td>56.0</td>\n",
              "      <td>...</td>\n",
              "      <td>44.24</td>\n",
              "      <td>4</td>\n",
              "      <td>2</td>\n",
              "      <td>0</td>\n",
              "      <td>2</td>\n",
              "      <td>1</td>\n",
              "      <td>0</td>\n",
              "      <td>0</td>\n",
              "      <td>1</td>\n",
              "      <td>1</td>\n",
              "    </tr>\n",
              "    <tr>\n",
              "      <th>2</th>\n",
              "      <td>3</td>\n",
              "      <td>62</td>\n",
              "      <td>80</td>\n",
              "      <td>11.0</td>\n",
              "      <td>MODERATE</td>\n",
              "      <td>201.0</td>\n",
              "      <td>180.0</td>\n",
              "      <td>201.0</td>\n",
              "      <td>1.52</td>\n",
              "      <td>68.0</td>\n",
              "      <td>...</td>\n",
              "      <td>44.09</td>\n",
              "      <td>4</td>\n",
              "      <td>2</td>\n",
              "      <td>0</td>\n",
              "      <td>2</td>\n",
              "      <td>1</td>\n",
              "      <td>0</td>\n",
              "      <td>0</td>\n",
              "      <td>1</td>\n",
              "      <td>0</td>\n",
              "    </tr>\n",
              "    <tr>\n",
              "      <th>3</th>\n",
              "      <td>4</td>\n",
              "      <td>145</td>\n",
              "      <td>56</td>\n",
              "      <td>60.0</td>\n",
              "      <td>VERY SEVERE</td>\n",
              "      <td>210.0</td>\n",
              "      <td>210.0</td>\n",
              "      <td>210.0</td>\n",
              "      <td>0.47</td>\n",
              "      <td>14.0</td>\n",
              "      <td>...</td>\n",
              "      <td>62.04</td>\n",
              "      <td>1</td>\n",
              "      <td>4</td>\n",
              "      <td>1</td>\n",
              "      <td>2</td>\n",
              "      <td>0</td>\n",
              "      <td>0</td>\n",
              "      <td>1</td>\n",
              "      <td>1</td>\n",
              "      <td>0</td>\n",
              "    </tr>\n",
              "    <tr>\n",
              "      <th>4</th>\n",
              "      <td>5</td>\n",
              "      <td>136</td>\n",
              "      <td>65</td>\n",
              "      <td>68.0</td>\n",
              "      <td>SEVERE</td>\n",
              "      <td>204.0</td>\n",
              "      <td>210.0</td>\n",
              "      <td>210.0</td>\n",
              "      <td>1.07</td>\n",
              "      <td>42.0</td>\n",
              "      <td>...</td>\n",
              "      <td>75.56</td>\n",
              "      <td>1</td>\n",
              "      <td>3</td>\n",
              "      <td>1</td>\n",
              "      <td>2</td>\n",
              "      <td>0</td>\n",
              "      <td>1</td>\n",
              "      <td>1</td>\n",
              "      <td>0</td>\n",
              "      <td>0</td>\n",
              "    </tr>\n",
              "  </tbody>\n",
              "</table>\n",
              "<p>5 rows × 24 columns</p>\n",
              "</div>\n",
              "    <div class=\"colab-df-buttons\">\n",
              "\n",
              "  <div class=\"colab-df-container\">\n",
              "    <button class=\"colab-df-convert\" onclick=\"convertToInteractive('df-6cb16887-f728-4a9d-ad22-861cab4af629')\"\n",
              "            title=\"Convert this dataframe to an interactive table.\"\n",
              "            style=\"display:none;\">\n",
              "\n",
              "  <svg xmlns=\"http://www.w3.org/2000/svg\" height=\"24px\" viewBox=\"0 -960 960 960\">\n",
              "    <path d=\"M120-120v-720h720v720H120Zm60-500h600v-160H180v160Zm220 220h160v-160H400v160Zm0 220h160v-160H400v160ZM180-400h160v-160H180v160Zm440 0h160v-160H620v160ZM180-180h160v-160H180v160Zm440 0h160v-160H620v160Z\"/>\n",
              "  </svg>\n",
              "    </button>\n",
              "\n",
              "  <style>\n",
              "    .colab-df-container {\n",
              "      display:flex;\n",
              "      gap: 12px;\n",
              "    }\n",
              "\n",
              "    .colab-df-convert {\n",
              "      background-color: #E8F0FE;\n",
              "      border: none;\n",
              "      border-radius: 50%;\n",
              "      cursor: pointer;\n",
              "      display: none;\n",
              "      fill: #1967D2;\n",
              "      height: 32px;\n",
              "      padding: 0 0 0 0;\n",
              "      width: 32px;\n",
              "    }\n",
              "\n",
              "    .colab-df-convert:hover {\n",
              "      background-color: #E2EBFA;\n",
              "      box-shadow: 0px 1px 2px rgba(60, 64, 67, 0.3), 0px 1px 3px 1px rgba(60, 64, 67, 0.15);\n",
              "      fill: #174EA6;\n",
              "    }\n",
              "\n",
              "    .colab-df-buttons div {\n",
              "      margin-bottom: 4px;\n",
              "    }\n",
              "\n",
              "    [theme=dark] .colab-df-convert {\n",
              "      background-color: #3B4455;\n",
              "      fill: #D2E3FC;\n",
              "    }\n",
              "\n",
              "    [theme=dark] .colab-df-convert:hover {\n",
              "      background-color: #434B5C;\n",
              "      box-shadow: 0px 1px 3px 1px rgba(0, 0, 0, 0.15);\n",
              "      filter: drop-shadow(0px 1px 2px rgba(0, 0, 0, 0.3));\n",
              "      fill: #FFFFFF;\n",
              "    }\n",
              "  </style>\n",
              "\n",
              "    <script>\n",
              "      const buttonEl =\n",
              "        document.querySelector('#df-6cb16887-f728-4a9d-ad22-861cab4af629 button.colab-df-convert');\n",
              "      buttonEl.style.display =\n",
              "        google.colab.kernel.accessAllowed ? 'block' : 'none';\n",
              "\n",
              "      async function convertToInteractive(key) {\n",
              "        const element = document.querySelector('#df-6cb16887-f728-4a9d-ad22-861cab4af629');\n",
              "        const dataTable =\n",
              "          await google.colab.kernel.invokeFunction('convertToInteractive',\n",
              "                                                    [key], {});\n",
              "        if (!dataTable) return;\n",
              "\n",
              "        const docLinkHtml = 'Like what you see? Visit the ' +\n",
              "          '<a target=\"_blank\" href=https://colab.research.google.com/notebooks/data_table.ipynb>data table notebook</a>'\n",
              "          + ' to learn more about interactive tables.';\n",
              "        element.innerHTML = '';\n",
              "        dataTable['output_type'] = 'display_data';\n",
              "        await google.colab.output.renderOutput(dataTable, element);\n",
              "        const docLink = document.createElement('div');\n",
              "        docLink.innerHTML = docLinkHtml;\n",
              "        element.appendChild(docLink);\n",
              "      }\n",
              "    </script>\n",
              "  </div>\n",
              "\n",
              "\n",
              "<div id=\"df-dbfce98a-c771-46c3-a5cf-40769fe9a315\">\n",
              "  <button class=\"colab-df-quickchart\" onclick=\"quickchart('df-dbfce98a-c771-46c3-a5cf-40769fe9a315')\"\n",
              "            title=\"Suggest charts\"\n",
              "            style=\"display:none;\">\n",
              "\n",
              "<svg xmlns=\"http://www.w3.org/2000/svg\" height=\"24px\"viewBox=\"0 0 24 24\"\n",
              "     width=\"24px\">\n",
              "    <g>\n",
              "        <path d=\"M19 3H5c-1.1 0-2 .9-2 2v14c0 1.1.9 2 2 2h14c1.1 0 2-.9 2-2V5c0-1.1-.9-2-2-2zM9 17H7v-7h2v7zm4 0h-2V7h2v10zm4 0h-2v-4h2v4z\"/>\n",
              "    </g>\n",
              "</svg>\n",
              "  </button>\n",
              "\n",
              "<style>\n",
              "  .colab-df-quickchart {\n",
              "      --bg-color: #E8F0FE;\n",
              "      --fill-color: #1967D2;\n",
              "      --hover-bg-color: #E2EBFA;\n",
              "      --hover-fill-color: #174EA6;\n",
              "      --disabled-fill-color: #AAA;\n",
              "      --disabled-bg-color: #DDD;\n",
              "  }\n",
              "\n",
              "  [theme=dark] .colab-df-quickchart {\n",
              "      --bg-color: #3B4455;\n",
              "      --fill-color: #D2E3FC;\n",
              "      --hover-bg-color: #434B5C;\n",
              "      --hover-fill-color: #FFFFFF;\n",
              "      --disabled-bg-color: #3B4455;\n",
              "      --disabled-fill-color: #666;\n",
              "  }\n",
              "\n",
              "  .colab-df-quickchart {\n",
              "    background-color: var(--bg-color);\n",
              "    border: none;\n",
              "    border-radius: 50%;\n",
              "    cursor: pointer;\n",
              "    display: none;\n",
              "    fill: var(--fill-color);\n",
              "    height: 32px;\n",
              "    padding: 0;\n",
              "    width: 32px;\n",
              "  }\n",
              "\n",
              "  .colab-df-quickchart:hover {\n",
              "    background-color: var(--hover-bg-color);\n",
              "    box-shadow: 0 1px 2px rgba(60, 64, 67, 0.3), 0 1px 3px 1px rgba(60, 64, 67, 0.15);\n",
              "    fill: var(--button-hover-fill-color);\n",
              "  }\n",
              "\n",
              "  .colab-df-quickchart-complete:disabled,\n",
              "  .colab-df-quickchart-complete:disabled:hover {\n",
              "    background-color: var(--disabled-bg-color);\n",
              "    fill: var(--disabled-fill-color);\n",
              "    box-shadow: none;\n",
              "  }\n",
              "\n",
              "  .colab-df-spinner {\n",
              "    border: 2px solid var(--fill-color);\n",
              "    border-color: transparent;\n",
              "    border-bottom-color: var(--fill-color);\n",
              "    animation:\n",
              "      spin 1s steps(1) infinite;\n",
              "  }\n",
              "\n",
              "  @keyframes spin {\n",
              "    0% {\n",
              "      border-color: transparent;\n",
              "      border-bottom-color: var(--fill-color);\n",
              "      border-left-color: var(--fill-color);\n",
              "    }\n",
              "    20% {\n",
              "      border-color: transparent;\n",
              "      border-left-color: var(--fill-color);\n",
              "      border-top-color: var(--fill-color);\n",
              "    }\n",
              "    30% {\n",
              "      border-color: transparent;\n",
              "      border-left-color: var(--fill-color);\n",
              "      border-top-color: var(--fill-color);\n",
              "      border-right-color: var(--fill-color);\n",
              "    }\n",
              "    40% {\n",
              "      border-color: transparent;\n",
              "      border-right-color: var(--fill-color);\n",
              "      border-top-color: var(--fill-color);\n",
              "    }\n",
              "    60% {\n",
              "      border-color: transparent;\n",
              "      border-right-color: var(--fill-color);\n",
              "    }\n",
              "    80% {\n",
              "      border-color: transparent;\n",
              "      border-right-color: var(--fill-color);\n",
              "      border-bottom-color: var(--fill-color);\n",
              "    }\n",
              "    90% {\n",
              "      border-color: transparent;\n",
              "      border-bottom-color: var(--fill-color);\n",
              "    }\n",
              "  }\n",
              "</style>\n",
              "\n",
              "  <script>\n",
              "    async function quickchart(key) {\n",
              "      const quickchartButtonEl =\n",
              "        document.querySelector('#' + key + ' button');\n",
              "      quickchartButtonEl.disabled = true;  // To prevent multiple clicks.\n",
              "      quickchartButtonEl.classList.add('colab-df-spinner');\n",
              "      try {\n",
              "        const charts = await google.colab.kernel.invokeFunction(\n",
              "            'suggestCharts', [key], {});\n",
              "      } catch (error) {\n",
              "        console.error('Error during call to suggestCharts:', error);\n",
              "      }\n",
              "      quickchartButtonEl.classList.remove('colab-df-spinner');\n",
              "      quickchartButtonEl.classList.add('colab-df-quickchart-complete');\n",
              "    }\n",
              "    (() => {\n",
              "      let quickchartButtonEl =\n",
              "        document.querySelector('#df-dbfce98a-c771-46c3-a5cf-40769fe9a315 button');\n",
              "      quickchartButtonEl.style.display =\n",
              "        google.colab.kernel.accessAllowed ? 'block' : 'none';\n",
              "    })();\n",
              "  </script>\n",
              "</div>\n",
              "    </div>\n",
              "  </div>\n"
            ]
          },
          "metadata": {},
          "execution_count": 6
        }
      ]
    },
    {
      "cell_type": "code",
      "source": [
        "data.columns"
      ],
      "metadata": {
        "colab": {
          "base_uri": "https://localhost:8080/"
        },
        "id": "EIVP2-D7mQ3V",
        "outputId": "9de59333-b286-4cc8-da7e-27d6f21c5b55"
      },
      "execution_count": 7,
      "outputs": [
        {
          "output_type": "execute_result",
          "data": {
            "text/plain": [
              "Index(['Unnamed: 0', 'ID', 'AGE', 'PackHistory', 'COPDSEVERITY', 'MWT1',\n",
              "       'MWT2', 'MWT1Best', 'FEV1', 'FEV1PRED', 'FVC', 'FVCPRED', 'CAT', 'HAD',\n",
              "       'SGRQ', 'AGEquartiles', 'copd', 'gender', 'smoking', 'Diabetes',\n",
              "       'muscular', 'hypertension', 'AtrialFib', 'IHD'],\n",
              "      dtype='object')"
            ]
          },
          "metadata": {},
          "execution_count": 7
        }
      ]
    },
    {
      "cell_type": "code",
      "source": [
        "print(data['copd'].value_counts())\n",
        "print(data['COPDSEVERITY'].value_counts())"
      ],
      "metadata": {
        "colab": {
          "base_uri": "https://localhost:8080/"
        },
        "id": "_finkdYlvUt6",
        "outputId": "675eb070-d5f6-4ede-e867-a18268f8bb76"
      },
      "execution_count": 8,
      "outputs": [
        {
          "output_type": "stream",
          "name": "stdout",
          "text": [
            "2    43\n",
            "3    27\n",
            "1    23\n",
            "4     8\n",
            "Name: copd, dtype: int64\n",
            "MODERATE       43\n",
            "SEVERE         27\n",
            "MILD           23\n",
            "VERY SEVERE     8\n",
            "Name: COPDSEVERITY, dtype: int64\n"
          ]
        }
      ]
    },
    {
      "cell_type": "markdown",
      "source": [
        "Dropping the unwanted columns to make the results more accurate"
      ],
      "metadata": {
        "id": "AL3j2xU5u5P7"
      }
    },
    {
      "cell_type": "code",
      "source": [
        "columns = ['Unnamed: 0','ID','COPDSEVERITY','MWT1','MWT2']\n",
        "data.drop(columns=columns, axis=1,inplace=True)"
      ],
      "metadata": {
        "id": "9qrTnEn-ubaM"
      },
      "execution_count": 9,
      "outputs": []
    },
    {
      "cell_type": "code",
      "source": [
        "data.shape"
      ],
      "metadata": {
        "colab": {
          "base_uri": "https://localhost:8080/"
        },
        "id": "VHOs1qPuv9cC",
        "outputId": "c93dfe29-a762-4eb0-d706-d9fe1874d7e0"
      },
      "execution_count": 10,
      "outputs": [
        {
          "output_type": "execute_result",
          "data": {
            "text/plain": [
              "(101, 19)"
            ]
          },
          "metadata": {},
          "execution_count": 10
        }
      ]
    },
    {
      "cell_type": "code",
      "source": [
        "data.head()"
      ],
      "metadata": {
        "colab": {
          "base_uri": "https://localhost:8080/",
          "height": 226
        },
        "id": "2GLfgXIHwAoK",
        "outputId": "b35fd098-875c-4207-d6b1-cb151cfab995"
      },
      "execution_count": 11,
      "outputs": [
        {
          "output_type": "execute_result",
          "data": {
            "text/plain": [
              "   AGE  PackHistory  MWT1Best  FEV1  FEV1PRED   FVC  FVCPRED  CAT   HAD  \\\n",
              "0   77         60.0     120.0  1.21      36.0  2.40       98   25   8.0   \n",
              "1   79         50.0     176.0  1.09      56.0  1.64       65   12  21.0   \n",
              "2   80         11.0     201.0  1.52      68.0  2.30       86   22  18.0   \n",
              "3   56         60.0     210.0  0.47      14.0  1.14       27   28  26.0   \n",
              "4   65         68.0     210.0  1.07      42.0  2.91       98   32  18.0   \n",
              "\n",
              "    SGRQ  AGEquartiles  copd  gender  smoking  Diabetes  muscular  \\\n",
              "0  69.55             4     3       1        2         1         0   \n",
              "1  44.24             4     2       0        2         1         0   \n",
              "2  44.09             4     2       0        2         1         0   \n",
              "3  62.04             1     4       1        2         0         0   \n",
              "4  75.56             1     3       1        2         0         1   \n",
              "\n",
              "   hypertension  AtrialFib  IHD  \n",
              "0             0          1    0  \n",
              "1             0          1    1  \n",
              "2             0          1    0  \n",
              "3             1          1    0  \n",
              "4             1          0    0  "
            ],
            "text/html": [
              "\n",
              "  <div id=\"df-d99ca8ac-c7f0-4e13-ad66-2e518aee557e\" class=\"colab-df-container\">\n",
              "    <div>\n",
              "<style scoped>\n",
              "    .dataframe tbody tr th:only-of-type {\n",
              "        vertical-align: middle;\n",
              "    }\n",
              "\n",
              "    .dataframe tbody tr th {\n",
              "        vertical-align: top;\n",
              "    }\n",
              "\n",
              "    .dataframe thead th {\n",
              "        text-align: right;\n",
              "    }\n",
              "</style>\n",
              "<table border=\"1\" class=\"dataframe\">\n",
              "  <thead>\n",
              "    <tr style=\"text-align: right;\">\n",
              "      <th></th>\n",
              "      <th>AGE</th>\n",
              "      <th>PackHistory</th>\n",
              "      <th>MWT1Best</th>\n",
              "      <th>FEV1</th>\n",
              "      <th>FEV1PRED</th>\n",
              "      <th>FVC</th>\n",
              "      <th>FVCPRED</th>\n",
              "      <th>CAT</th>\n",
              "      <th>HAD</th>\n",
              "      <th>SGRQ</th>\n",
              "      <th>AGEquartiles</th>\n",
              "      <th>copd</th>\n",
              "      <th>gender</th>\n",
              "      <th>smoking</th>\n",
              "      <th>Diabetes</th>\n",
              "      <th>muscular</th>\n",
              "      <th>hypertension</th>\n",
              "      <th>AtrialFib</th>\n",
              "      <th>IHD</th>\n",
              "    </tr>\n",
              "  </thead>\n",
              "  <tbody>\n",
              "    <tr>\n",
              "      <th>0</th>\n",
              "      <td>77</td>\n",
              "      <td>60.0</td>\n",
              "      <td>120.0</td>\n",
              "      <td>1.21</td>\n",
              "      <td>36.0</td>\n",
              "      <td>2.40</td>\n",
              "      <td>98</td>\n",
              "      <td>25</td>\n",
              "      <td>8.0</td>\n",
              "      <td>69.55</td>\n",
              "      <td>4</td>\n",
              "      <td>3</td>\n",
              "      <td>1</td>\n",
              "      <td>2</td>\n",
              "      <td>1</td>\n",
              "      <td>0</td>\n",
              "      <td>0</td>\n",
              "      <td>1</td>\n",
              "      <td>0</td>\n",
              "    </tr>\n",
              "    <tr>\n",
              "      <th>1</th>\n",
              "      <td>79</td>\n",
              "      <td>50.0</td>\n",
              "      <td>176.0</td>\n",
              "      <td>1.09</td>\n",
              "      <td>56.0</td>\n",
              "      <td>1.64</td>\n",
              "      <td>65</td>\n",
              "      <td>12</td>\n",
              "      <td>21.0</td>\n",
              "      <td>44.24</td>\n",
              "      <td>4</td>\n",
              "      <td>2</td>\n",
              "      <td>0</td>\n",
              "      <td>2</td>\n",
              "      <td>1</td>\n",
              "      <td>0</td>\n",
              "      <td>0</td>\n",
              "      <td>1</td>\n",
              "      <td>1</td>\n",
              "    </tr>\n",
              "    <tr>\n",
              "      <th>2</th>\n",
              "      <td>80</td>\n",
              "      <td>11.0</td>\n",
              "      <td>201.0</td>\n",
              "      <td>1.52</td>\n",
              "      <td>68.0</td>\n",
              "      <td>2.30</td>\n",
              "      <td>86</td>\n",
              "      <td>22</td>\n",
              "      <td>18.0</td>\n",
              "      <td>44.09</td>\n",
              "      <td>4</td>\n",
              "      <td>2</td>\n",
              "      <td>0</td>\n",
              "      <td>2</td>\n",
              "      <td>1</td>\n",
              "      <td>0</td>\n",
              "      <td>0</td>\n",
              "      <td>1</td>\n",
              "      <td>0</td>\n",
              "    </tr>\n",
              "    <tr>\n",
              "      <th>3</th>\n",
              "      <td>56</td>\n",
              "      <td>60.0</td>\n",
              "      <td>210.0</td>\n",
              "      <td>0.47</td>\n",
              "      <td>14.0</td>\n",
              "      <td>1.14</td>\n",
              "      <td>27</td>\n",
              "      <td>28</td>\n",
              "      <td>26.0</td>\n",
              "      <td>62.04</td>\n",
              "      <td>1</td>\n",
              "      <td>4</td>\n",
              "      <td>1</td>\n",
              "      <td>2</td>\n",
              "      <td>0</td>\n",
              "      <td>0</td>\n",
              "      <td>1</td>\n",
              "      <td>1</td>\n",
              "      <td>0</td>\n",
              "    </tr>\n",
              "    <tr>\n",
              "      <th>4</th>\n",
              "      <td>65</td>\n",
              "      <td>68.0</td>\n",
              "      <td>210.0</td>\n",
              "      <td>1.07</td>\n",
              "      <td>42.0</td>\n",
              "      <td>2.91</td>\n",
              "      <td>98</td>\n",
              "      <td>32</td>\n",
              "      <td>18.0</td>\n",
              "      <td>75.56</td>\n",
              "      <td>1</td>\n",
              "      <td>3</td>\n",
              "      <td>1</td>\n",
              "      <td>2</td>\n",
              "      <td>0</td>\n",
              "      <td>1</td>\n",
              "      <td>1</td>\n",
              "      <td>0</td>\n",
              "      <td>0</td>\n",
              "    </tr>\n",
              "  </tbody>\n",
              "</table>\n",
              "</div>\n",
              "    <div class=\"colab-df-buttons\">\n",
              "\n",
              "  <div class=\"colab-df-container\">\n",
              "    <button class=\"colab-df-convert\" onclick=\"convertToInteractive('df-d99ca8ac-c7f0-4e13-ad66-2e518aee557e')\"\n",
              "            title=\"Convert this dataframe to an interactive table.\"\n",
              "            style=\"display:none;\">\n",
              "\n",
              "  <svg xmlns=\"http://www.w3.org/2000/svg\" height=\"24px\" viewBox=\"0 -960 960 960\">\n",
              "    <path d=\"M120-120v-720h720v720H120Zm60-500h600v-160H180v160Zm220 220h160v-160H400v160Zm0 220h160v-160H400v160ZM180-400h160v-160H180v160Zm440 0h160v-160H620v160ZM180-180h160v-160H180v160Zm440 0h160v-160H620v160Z\"/>\n",
              "  </svg>\n",
              "    </button>\n",
              "\n",
              "  <style>\n",
              "    .colab-df-container {\n",
              "      display:flex;\n",
              "      gap: 12px;\n",
              "    }\n",
              "\n",
              "    .colab-df-convert {\n",
              "      background-color: #E8F0FE;\n",
              "      border: none;\n",
              "      border-radius: 50%;\n",
              "      cursor: pointer;\n",
              "      display: none;\n",
              "      fill: #1967D2;\n",
              "      height: 32px;\n",
              "      padding: 0 0 0 0;\n",
              "      width: 32px;\n",
              "    }\n",
              "\n",
              "    .colab-df-convert:hover {\n",
              "      background-color: #E2EBFA;\n",
              "      box-shadow: 0px 1px 2px rgba(60, 64, 67, 0.3), 0px 1px 3px 1px rgba(60, 64, 67, 0.15);\n",
              "      fill: #174EA6;\n",
              "    }\n",
              "\n",
              "    .colab-df-buttons div {\n",
              "      margin-bottom: 4px;\n",
              "    }\n",
              "\n",
              "    [theme=dark] .colab-df-convert {\n",
              "      background-color: #3B4455;\n",
              "      fill: #D2E3FC;\n",
              "    }\n",
              "\n",
              "    [theme=dark] .colab-df-convert:hover {\n",
              "      background-color: #434B5C;\n",
              "      box-shadow: 0px 1px 3px 1px rgba(0, 0, 0, 0.15);\n",
              "      filter: drop-shadow(0px 1px 2px rgba(0, 0, 0, 0.3));\n",
              "      fill: #FFFFFF;\n",
              "    }\n",
              "  </style>\n",
              "\n",
              "    <script>\n",
              "      const buttonEl =\n",
              "        document.querySelector('#df-d99ca8ac-c7f0-4e13-ad66-2e518aee557e button.colab-df-convert');\n",
              "      buttonEl.style.display =\n",
              "        google.colab.kernel.accessAllowed ? 'block' : 'none';\n",
              "\n",
              "      async function convertToInteractive(key) {\n",
              "        const element = document.querySelector('#df-d99ca8ac-c7f0-4e13-ad66-2e518aee557e');\n",
              "        const dataTable =\n",
              "          await google.colab.kernel.invokeFunction('convertToInteractive',\n",
              "                                                    [key], {});\n",
              "        if (!dataTable) return;\n",
              "\n",
              "        const docLinkHtml = 'Like what you see? Visit the ' +\n",
              "          '<a target=\"_blank\" href=https://colab.research.google.com/notebooks/data_table.ipynb>data table notebook</a>'\n",
              "          + ' to learn more about interactive tables.';\n",
              "        element.innerHTML = '';\n",
              "        dataTable['output_type'] = 'display_data';\n",
              "        await google.colab.output.renderOutput(dataTable, element);\n",
              "        const docLink = document.createElement('div');\n",
              "        docLink.innerHTML = docLinkHtml;\n",
              "        element.appendChild(docLink);\n",
              "      }\n",
              "    </script>\n",
              "  </div>\n",
              "\n",
              "\n",
              "<div id=\"df-1cf3c885-76e7-42f6-914d-710788720413\">\n",
              "  <button class=\"colab-df-quickchart\" onclick=\"quickchart('df-1cf3c885-76e7-42f6-914d-710788720413')\"\n",
              "            title=\"Suggest charts\"\n",
              "            style=\"display:none;\">\n",
              "\n",
              "<svg xmlns=\"http://www.w3.org/2000/svg\" height=\"24px\"viewBox=\"0 0 24 24\"\n",
              "     width=\"24px\">\n",
              "    <g>\n",
              "        <path d=\"M19 3H5c-1.1 0-2 .9-2 2v14c0 1.1.9 2 2 2h14c1.1 0 2-.9 2-2V5c0-1.1-.9-2-2-2zM9 17H7v-7h2v7zm4 0h-2V7h2v10zm4 0h-2v-4h2v4z\"/>\n",
              "    </g>\n",
              "</svg>\n",
              "  </button>\n",
              "\n",
              "<style>\n",
              "  .colab-df-quickchart {\n",
              "      --bg-color: #E8F0FE;\n",
              "      --fill-color: #1967D2;\n",
              "      --hover-bg-color: #E2EBFA;\n",
              "      --hover-fill-color: #174EA6;\n",
              "      --disabled-fill-color: #AAA;\n",
              "      --disabled-bg-color: #DDD;\n",
              "  }\n",
              "\n",
              "  [theme=dark] .colab-df-quickchart {\n",
              "      --bg-color: #3B4455;\n",
              "      --fill-color: #D2E3FC;\n",
              "      --hover-bg-color: #434B5C;\n",
              "      --hover-fill-color: #FFFFFF;\n",
              "      --disabled-bg-color: #3B4455;\n",
              "      --disabled-fill-color: #666;\n",
              "  }\n",
              "\n",
              "  .colab-df-quickchart {\n",
              "    background-color: var(--bg-color);\n",
              "    border: none;\n",
              "    border-radius: 50%;\n",
              "    cursor: pointer;\n",
              "    display: none;\n",
              "    fill: var(--fill-color);\n",
              "    height: 32px;\n",
              "    padding: 0;\n",
              "    width: 32px;\n",
              "  }\n",
              "\n",
              "  .colab-df-quickchart:hover {\n",
              "    background-color: var(--hover-bg-color);\n",
              "    box-shadow: 0 1px 2px rgba(60, 64, 67, 0.3), 0 1px 3px 1px rgba(60, 64, 67, 0.15);\n",
              "    fill: var(--button-hover-fill-color);\n",
              "  }\n",
              "\n",
              "  .colab-df-quickchart-complete:disabled,\n",
              "  .colab-df-quickchart-complete:disabled:hover {\n",
              "    background-color: var(--disabled-bg-color);\n",
              "    fill: var(--disabled-fill-color);\n",
              "    box-shadow: none;\n",
              "  }\n",
              "\n",
              "  .colab-df-spinner {\n",
              "    border: 2px solid var(--fill-color);\n",
              "    border-color: transparent;\n",
              "    border-bottom-color: var(--fill-color);\n",
              "    animation:\n",
              "      spin 1s steps(1) infinite;\n",
              "  }\n",
              "\n",
              "  @keyframes spin {\n",
              "    0% {\n",
              "      border-color: transparent;\n",
              "      border-bottom-color: var(--fill-color);\n",
              "      border-left-color: var(--fill-color);\n",
              "    }\n",
              "    20% {\n",
              "      border-color: transparent;\n",
              "      border-left-color: var(--fill-color);\n",
              "      border-top-color: var(--fill-color);\n",
              "    }\n",
              "    30% {\n",
              "      border-color: transparent;\n",
              "      border-left-color: var(--fill-color);\n",
              "      border-top-color: var(--fill-color);\n",
              "      border-right-color: var(--fill-color);\n",
              "    }\n",
              "    40% {\n",
              "      border-color: transparent;\n",
              "      border-right-color: var(--fill-color);\n",
              "      border-top-color: var(--fill-color);\n",
              "    }\n",
              "    60% {\n",
              "      border-color: transparent;\n",
              "      border-right-color: var(--fill-color);\n",
              "    }\n",
              "    80% {\n",
              "      border-color: transparent;\n",
              "      border-right-color: var(--fill-color);\n",
              "      border-bottom-color: var(--fill-color);\n",
              "    }\n",
              "    90% {\n",
              "      border-color: transparent;\n",
              "      border-bottom-color: var(--fill-color);\n",
              "    }\n",
              "  }\n",
              "</style>\n",
              "\n",
              "  <script>\n",
              "    async function quickchart(key) {\n",
              "      const quickchartButtonEl =\n",
              "        document.querySelector('#' + key + ' button');\n",
              "      quickchartButtonEl.disabled = true;  // To prevent multiple clicks.\n",
              "      quickchartButtonEl.classList.add('colab-df-spinner');\n",
              "      try {\n",
              "        const charts = await google.colab.kernel.invokeFunction(\n",
              "            'suggestCharts', [key], {});\n",
              "      } catch (error) {\n",
              "        console.error('Error during call to suggestCharts:', error);\n",
              "      }\n",
              "      quickchartButtonEl.classList.remove('colab-df-spinner');\n",
              "      quickchartButtonEl.classList.add('colab-df-quickchart-complete');\n",
              "    }\n",
              "    (() => {\n",
              "      let quickchartButtonEl =\n",
              "        document.querySelector('#df-1cf3c885-76e7-42f6-914d-710788720413 button');\n",
              "      quickchartButtonEl.style.display =\n",
              "        google.colab.kernel.accessAllowed ? 'block' : 'none';\n",
              "    })();\n",
              "  </script>\n",
              "</div>\n",
              "    </div>\n",
              "  </div>\n"
            ]
          },
          "metadata": {},
          "execution_count": 11
        }
      ]
    },
    {
      "cell_type": "markdown",
      "source": [
        "Exploratory Data Anaylsis"
      ],
      "metadata": {
        "id": "MWYR-eccwFJk"
      }
    },
    {
      "cell_type": "code",
      "source": [
        "plt.figure(figsize=(12,8))\n",
        "sns.heatmap(data.corr(),annot=True,cmap='rocket',fmt='.2f')"
      ],
      "metadata": {
        "colab": {
          "base_uri": "https://localhost:8080/",
          "height": 776
        },
        "id": "_KN7pUoUwL93",
        "outputId": "da52d650-9e43-49ba-a26f-ac19d14bf05c"
      },
      "execution_count": 12,
      "outputs": [
        {
          "output_type": "execute_result",
          "data": {
            "text/plain": [
              "<Axes: >"
            ]
          },
          "metadata": {},
          "execution_count": 12
        },
        {
          "output_type": "display_data",
          "data": {
            "text/plain": [
              "<Figure size 1200x800 with 2 Axes>"
            ],
            "image/png": "[encoded data removed]"
          },
          "metadata": {}
        }
      ]
    },
    {
      "cell_type": "markdown",
      "source": [
        "Age Distributions"
      ],
      "metadata": {
        "id": "zftaq6pryCTV"
      }
    },
    {
      "cell_type": "code",
      "source": [
        "age = pd.DataFrame(data['AGE'].value_counts(bins=3)).reset_index()\n",
        "age.columns = ['Range','Age']\n",
        "age['Range'].astype(str)\n",
        "for i,col in enumerate(age):\n",
        "  for row in range(age.shape[0]):\n",
        "    age[col][row] = age[col].astype('str')[row][1:-1]\n",
        "  break\n",
        "age['Range'][2]  = '43.9551, 58.667'"
      ],
      "metadata": {
        "id": "8Umbxrv0z7_o"
      },
      "execution_count": 13,
      "outputs": []
    },
    {
      "cell_type": "code",
      "source": [
        "plt.figure(figsize=(6,5))\n",
        "sns.barplot(data = age , x='Range',y='Age',palette = 'viridis')\n",
        "plt.title('COPD = 2 For different age category')\n",
        "plt.xticks(rotation=0)\n",
        "plt.show()"
      ],
      "metadata": {
        "colab": {
          "base_uri": "https://localhost:8080/",
          "height": 487
        },
        "id": "OhgrqYmT0ppf",
        "outputId": "ab5bae9b-eb97-408d-876b-fb294f795287"
      },
      "execution_count": 14,
      "outputs": [
        {
          "output_type": "display_data",
          "data": {
            "text/plain": [
              "<Figure size 600x500 with 1 Axes>"
            ],
            "image/png": "[encoded data removed]"
          },
          "metadata": {}
        }
      ]
    },
    {
      "cell_type": "markdown",
      "source": [
        "COPD - Severity levels\n",
        "(VERY SEVERE - 4\n",
        "SEVERE      - 3\n",
        "MODERATE    - 2\n",
        "MILD        - 1)"
      ],
      "metadata": {
        "id": "bYyD7_M87ryv"
      }
    },
    {
      "cell_type": "code",
      "source": [
        "data['copd'].value_counts()"
      ],
      "metadata": {
        "colab": {
          "base_uri": "https://localhost:8080/"
        },
        "id": "D6S-ABCg7vrx",
        "outputId": "efc0e617-fc95-4eb8-f31e-2ac9c1adf44c"
      },
      "execution_count": 15,
      "outputs": [
        {
          "output_type": "execute_result",
          "data": {
            "text/plain": [
              "2    43\n",
              "3    27\n",
              "1    23\n",
              "4     8\n",
              "Name: copd, dtype: int64"
            ]
          },
          "metadata": {},
          "execution_count": 15
        }
      ]
    },
    {
      "cell_type": "code",
      "source": [
        "df = data.groupby([pd.cut(data['AGE'], bins=3),'copd']).size().unstack().reset_index().rename(columns={'index': 'AGE'})"
      ],
      "metadata": {
        "id": "uFHJlQZ0-yeL"
      },
      "execution_count": 16,
      "outputs": []
    },
    {
      "cell_type": "code",
      "source": [
        "df_melted = pd.melt(df, id_vars=['AGE'], var_name='COPD', value_name='Count')\n",
        "sns.barplot(x='AGE', y='Count', hue='COPD', data=df_melted, palette='viridis')\n",
        "plt.xlabel('Age')\n",
        "plt.ylabel('Count')\n",
        "plt.title('Bar Plot of COPD Counts within Age Ranges')\n",
        "plt.legend(title='COPD')\n",
        "plt.show()"
      ],
      "metadata": {
        "colab": {
          "base_uri": "https://localhost:8080/",
          "height": 472
        },
        "id": "v_8VnB027oV2",
        "outputId": "f5a9a6e7-3c39-4a6b-a9b8-889bd79101fe"
      },
      "execution_count": 17,
      "outputs": [
        {
          "output_type": "display_data",
          "data": {
            "text/plain": [
              "<Figure size 640x480 with 1 Axes>"
            ],
            "image/png": "[encoded data removed]"
          },
          "metadata": {}
        }
      ]
    },
    {
      "cell_type": "markdown",
      "source": [
        "Smoking Patterns"
      ],
      "metadata": {
        "id": "TMo9GCYuFh5H"
      }
    },
    {
      "cell_type": "markdown",
      "source": [
        "How does PackHistory vary between smokers and non-smokers?"
      ],
      "metadata": {
        "id": "4bY7jGkyFn3P"
      }
    },
    {
      "cell_type": "code",
      "source": [
        "fig,ax = plt.subplots(1,2,figsize = (10,6))\n",
        "for count,i in enumerate(data['smoking'].unique()):\n",
        "    ax[count].set_title(f'Smoking: {i}')\n",
        "    ax[count].plot(data[data['smoking']==i]['PackHistory'])"
      ],
      "metadata": {
        "colab": {
          "base_uri": "https://localhost:8080/",
          "height": 545
        },
        "id": "r1aTk_gLFnWZ",
        "outputId": "50def4b8-4982-430e-d024-e7c62a64f790"
      },
      "execution_count": 18,
      "outputs": [
        {
          "output_type": "display_data",
          "data": {
            "text/plain": [
              "<Figure size 1000x600 with 2 Axes>"
            ],
            "image/png": "[encoded data removed]"
          },
          "metadata": {}
        }
      ]
    },
    {
      "cell_type": "markdown",
      "source": [
        "Physical Performance"
      ],
      "metadata": {
        "id": "oagcEWnDLiSj"
      }
    },
    {
      "cell_type": "code",
      "source": [
        "columns = ['AGE','MWT1Best']\n",
        "df = pd.DataFrame({col : data[col] for col in columns})\n",
        "df['Age Range'] = pd.cut(df['AGE'],bins=3)\n",
        "df['MWT1Best'] = pd.to_numeric(df['MWT1Best'], errors='coerce')\n",
        "df.groupby('Age Range')['MWT1Best'].mean().reset_index()\n",
        "df['Age Range']=df['Age Range'].astype('str')\n",
        "for i,col in enumerate(df['Age Range']):\n",
        "    df['Age Range'][i] = col[1:-1]"
      ],
      "metadata": {
        "id": "akb9j4_PFbEq"
      },
      "execution_count": 50,
      "outputs": []
    },
    {
      "cell_type": "code",
      "source": [
        "sns.barplot(data = df,x='Age Range',y='MWT1Best',palette='viridis')"
      ],
      "metadata": {
        "colab": {
          "base_uri": "https://localhost:8080/",
          "height": 466
        },
        "id": "eolteirUOm6P",
        "outputId": "0213a4ec-236d-4d77-963e-d98f5c85ace1"
      },
      "execution_count": 51,
      "outputs": [
        {
          "output_type": "execute_result",
          "data": {
            "text/plain": [
              "<Axes: xlabel='Age Range', ylabel='MWT1Best'>"
            ]
          },
          "metadata": {},
          "execution_count": 51
        },
        {
          "output_type": "display_data",
          "data": {
            "text/plain": [
              "<Figure size 640x480 with 1 Axes>"
            ],
            "image/png": "[encoded data removed]"
          },
          "metadata": {}
        }
      ]
    },
    {
      "cell_type": "markdown",
      "source": [
        "Lung Function Analysis                                                  \n",
        "Are there relationships between lung metrics and diabetes?"
      ],
      "metadata": {
        "id": "XU4oOY-sgkGx"
      }
    },
    {
      "cell_type": "code",
      "source": [
        "df = data[['FVC','Diabetes']]\n",
        "df['FVC Range'] = pd.cut(df.FVC,bins=3)\n",
        "df = df.groupby(['FVC Range','Diabetes']).size().unstack(fill_value=0).reset_index()\n",
        "df"
      ],
      "metadata": {
        "colab": {
          "base_uri": "https://localhost:8080/",
          "height": 143
        },
        "id": "QrHqOxhCgm-R",
        "outputId": "ff15ad93-bf30-42a9-8db4-a8736274b8cc"
      },
      "execution_count": 110,
      "outputs": [
        {
          "output_type": "execute_result",
          "data": {
            "text/plain": [
              "Diabetes      FVC Range   0   1\n",
              "0         (1.136, 2.55]  26  16\n",
              "1          (2.55, 3.96]  38   3\n",
              "2          (3.96, 5.37]  16   2"
            ],
            "text/html": [
              "\n",
              "  <div id=\"df-68399615-db86-448a-b5b1-0304f0baef15\" class=\"colab-df-container\">\n",
              "    <div>\n",
              "<style scoped>\n",
              "    .dataframe tbody tr th:only-of-type {\n",
              "        vertical-align: middle;\n",
              "    }\n",
              "\n",
              "    .dataframe tbody tr th {\n",
              "        vertical-align: top;\n",
              "    }\n",
              "\n",
              "    .dataframe thead th {\n",
              "        text-align: right;\n",
              "    }\n",
              "</style>\n",
              "<table border=\"1\" class=\"dataframe\">\n",
              "  <thead>\n",
              "    <tr style=\"text-align: right;\">\n",
              "      <th>Diabetes</th>\n",
              "      <th>FVC Range</th>\n",
              "      <th>0</th>\n",
              "      <th>1</th>\n",
              "    </tr>\n",
              "  </thead>\n",
              "  <tbody>\n",
              "    <tr>\n",
              "      <th>0</th>\n",
              "      <td>(1.136, 2.55]</td>\n",
              "      <td>26</td>\n",
              "      <td>16</td>\n",
              "    </tr>\n",
              "    <tr>\n",
              "      <th>1</th>\n",
              "      <td>(2.55, 3.96]</td>\n",
              "      <td>38</td>\n",
              "      <td>3</td>\n",
              "    </tr>\n",
              "    <tr>\n",
              "      <th>2</th>\n",
              "      <td>(3.96, 5.37]</td>\n",
              "      <td>16</td>\n",
              "      <td>2</td>\n",
              "    </tr>\n",
              "  </tbody>\n",
              "</table>\n",
              "</div>\n",
              "    <div class=\"colab-df-buttons\">\n",
              "\n",
              "  <div class=\"colab-df-container\">\n",
              "    <button class=\"colab-df-convert\" onclick=\"convertToInteractive('df-68399615-db86-448a-b5b1-0304f0baef15')\"\n",
              "            title=\"Convert this dataframe to an interactive table.\"\n",
              "            style=\"display:none;\">\n",
              "\n",
              "  <svg xmlns=\"http://www.w3.org/2000/svg\" height=\"24px\" viewBox=\"0 -960 960 960\">\n",
              "    <path d=\"M120-120v-720h720v720H120Zm60-500h600v-160H180v160Zm220 220h160v-160H400v160Zm0 220h160v-160H400v160ZM180-400h160v-160H180v160Zm440 0h160v-160H620v160ZM180-180h160v-160H180v160Zm440 0h160v-160H620v160Z\"/>\n",
              "  </svg>\n",
              "    </button>\n",
              "\n",
              "  <style>\n",
              "    .colab-df-container {\n",
              "      display:flex;\n",
              "      gap: 12px;\n",
              "    }\n",
              "\n",
              "    .colab-df-convert {\n",
              "      background-color: #E8F0FE;\n",
              "      border: none;\n",
              "      border-radius: 50%;\n",
              "      cursor: pointer;\n",
              "      display: none;\n",
              "      fill: #1967D2;\n",
              "      height: 32px;\n",
              "      padding: 0 0 0 0;\n",
              "      width: 32px;\n",
              "    }\n",
              "\n",
              "    .colab-df-convert:hover {\n",
              "      background-color: #E2EBFA;\n",
              "      box-shadow: 0px 1px 2px rgba(60, 64, 67, 0.3), 0px 1px 3px 1px rgba(60, 64, 67, 0.15);\n",
              "      fill: #174EA6;\n",
              "    }\n",
              "\n",
              "    .colab-df-buttons div {\n",
              "      margin-bottom: 4px;\n",
              "    }\n",
              "\n",
              "    [theme=dark] .colab-df-convert {\n",
              "      background-color: #3B4455;\n",
              "      fill: #D2E3FC;\n",
              "    }\n",
              "\n",
              "    [theme=dark] .colab-df-convert:hover {\n",
              "      background-color: #434B5C;\n",
              "      box-shadow: 0px 1px 3px 1px rgba(0, 0, 0, 0.15);\n",
              "      filter: drop-shadow(0px 1px 2px rgba(0, 0, 0, 0.3));\n",
              "      fill: #FFFFFF;\n",
              "    }\n",
              "  </style>\n",
              "\n",
              "    <script>\n",
              "      const buttonEl =\n",
              "        document.querySelector('#df-68399615-db86-448a-b5b1-0304f0baef15 button.colab-df-convert');\n",
              "      buttonEl.style.display =\n",
              "        google.colab.kernel.accessAllowed ? 'block' : 'none';\n",
              "\n",
              "      async function convertToInteractive(key) {\n",
              "        const element = document.querySelector('#df-68399615-db86-448a-b5b1-0304f0baef15');\n",
              "        const dataTable =\n",
              "          await google.colab.kernel.invokeFunction('convertToInteractive',\n",
              "                                                    [key], {});\n",
              "        if (!dataTable) return;\n",
              "\n",
              "        const docLinkHtml = 'Like what you see? Visit the ' +\n",
              "          '<a target=\"_blank\" href=https://colab.research.google.com/notebooks/data_table.ipynb>data table notebook</a>'\n",
              "          + ' to learn more about interactive tables.';\n",
              "        element.innerHTML = '';\n",
              "        dataTable['output_type'] = 'display_data';\n",
              "        await google.colab.output.renderOutput(dataTable, element);\n",
              "        const docLink = document.createElement('div');\n",
              "        docLink.innerHTML = docLinkHtml;\n",
              "        element.appendChild(docLink);\n",
              "      }\n",
              "    </script>\n",
              "  </div>\n",
              "\n",
              "\n",
              "<div id=\"df-c86f4300-e571-475a-b58f-8051dc626957\">\n",
              "  <button class=\"colab-df-quickchart\" onclick=\"quickchart('df-c86f4300-e571-475a-b58f-8051dc626957')\"\n",
              "            title=\"Suggest charts\"\n",
              "            style=\"display:none;\">\n",
              "\n",
              "<svg xmlns=\"http://www.w3.org/2000/svg\" height=\"24px\"viewBox=\"0 0 24 24\"\n",
              "     width=\"24px\">\n",
              "    <g>\n",
              "        <path d=\"M19 3H5c-1.1 0-2 .9-2 2v14c0 1.1.9 2 2 2h14c1.1 0 2-.9 2-2V5c0-1.1-.9-2-2-2zM9 17H7v-7h2v7zm4 0h-2V7h2v10zm4 0h-2v-4h2v4z\"/>\n",
              "    </g>\n",
              "</svg>\n",
              "  </button>\n",
              "\n",
              "<style>\n",
              "  .colab-df-quickchart {\n",
              "      --bg-color: #E8F0FE;\n",
              "      --fill-color: #1967D2;\n",
              "      --hover-bg-color: #E2EBFA;\n",
              "      --hover-fill-color: #174EA6;\n",
              "      --disabled-fill-color: #AAA;\n",
              "      --disabled-bg-color: #DDD;\n",
              "  }\n",
              "\n",
              "  [theme=dark] .colab-df-quickchart {\n",
              "      --bg-color: #3B4455;\n",
              "      --fill-color: #D2E3FC;\n",
              "      --hover-bg-color: #434B5C;\n",
              "      --hover-fill-color: #FFFFFF;\n",
              "      --disabled-bg-color: #3B4455;\n",
              "      --disabled-fill-color: #666;\n",
              "  }\n",
              "\n",
              "  .colab-df-quickchart {\n",
              "    background-color: var(--bg-color);\n",
              "    border: none;\n",
              "    border-radius: 50%;\n",
              "    cursor: pointer;\n",
              "    display: none;\n",
              "    fill: var(--fill-color);\n",
              "    height: 32px;\n",
              "    padding: 0;\n",
              "    width: 32px;\n",
              "  }\n",
              "\n",
              "  .colab-df-quickchart:hover {\n",
              "    background-color: var(--hover-bg-color);\n",
              "    box-shadow: 0 1px 2px rgba(60, 64, 67, 0.3), 0 1px 3px 1px rgba(60, 64, 67, 0.15);\n",
              "    fill: var(--button-hover-fill-color);\n",
              "  }\n",
              "\n",
              "  .colab-df-quickchart-complete:disabled,\n",
              "  .colab-df-quickchart-complete:disabled:hover {\n",
              "    background-color: var(--disabled-bg-color);\n",
              "    fill: var(--disabled-fill-color);\n",
              "    box-shadow: none;\n",
              "  }\n",
              "\n",
              "  .colab-df-spinner {\n",
              "    border: 2px solid var(--fill-color);\n",
              "    border-color: transparent;\n",
              "    border-bottom-color: var(--fill-color);\n",
              "    animation:\n",
              "      spin 1s steps(1) infinite;\n",
              "  }\n",
              "\n",
              "  @keyframes spin {\n",
              "    0% {\n",
              "      border-color: transparent;\n",
              "      border-bottom-color: var(--fill-color);\n",
              "      border-left-color: var(--fill-color);\n",
              "    }\n",
              "    20% {\n",
              "      border-color: transparent;\n",
              "      border-left-color: var(--fill-color);\n",
              "      border-top-color: var(--fill-color);\n",
              "    }\n",
              "    30% {\n",
              "      border-color: transparent;\n",
              "      border-left-color: var(--fill-color);\n",
              "      border-top-color: var(--fill-color);\n",
              "      border-right-color: var(--fill-color);\n",
              "    }\n",
              "    40% {\n",
              "      border-color: transparent;\n",
              "      border-right-color: var(--fill-color);\n",
              "      border-top-color: var(--fill-color);\n",
              "    }\n",
              "    60% {\n",
              "      border-color: transparent;\n",
              "      border-right-color: var(--fill-color);\n",
              "    }\n",
              "    80% {\n",
              "      border-color: transparent;\n",
              "      border-right-color: var(--fill-color);\n",
              "      border-bottom-color: var(--fill-color);\n",
              "    }\n",
              "    90% {\n",
              "      border-color: transparent;\n",
              "      border-bottom-color: var(--fill-color);\n",
              "    }\n",
              "  }\n",
              "</style>\n",
              "\n",
              "  <script>\n",
              "    async function quickchart(key) {\n",
              "      const quickchartButtonEl =\n",
              "        document.querySelector('#' + key + ' button');\n",
              "      quickchartButtonEl.disabled = true;  // To prevent multiple clicks.\n",
              "      quickchartButtonEl.classList.add('colab-df-spinner');\n",
              "      try {\n",
              "        const charts = await google.colab.kernel.invokeFunction(\n",
              "            'suggestCharts', [key], {});\n",
              "      } catch (error) {\n",
              "        console.error('Error during call to suggestCharts:', error);\n",
              "      }\n",
              "      quickchartButtonEl.classList.remove('colab-df-spinner');\n",
              "      quickchartButtonEl.classList.add('colab-df-quickchart-complete');\n",
              "    }\n",
              "    (() => {\n",
              "      let quickchartButtonEl =\n",
              "        document.querySelector('#df-c86f4300-e571-475a-b58f-8051dc626957 button');\n",
              "      quickchartButtonEl.style.display =\n",
              "        google.colab.kernel.accessAllowed ? 'block' : 'none';\n",
              "    })();\n",
              "  </script>\n",
              "</div>\n",
              "    </div>\n",
              "  </div>\n"
            ]
          },
          "metadata": {},
          "execution_count": 110
        }
      ]
    },
    {
      "cell_type": "code",
      "source": [
        "df_melted = pd.melt(df, id_vars=['FVC Range'], var_name='Diabetes', value_name='Count')\n",
        "df_melted['FVC Range'] = df_melted['FVC Range'].astype(str)\n",
        "for i,row in enumerate(df_melted['FVC Range']):\n",
        "  df_melted['FVC Range'][i] = row[1:-1]\n",
        "sns.barplot(data=df_melted,x='FVC Range',y='Count',hue='Diabetes',palette='viridis')"
      ],
      "metadata": {
        "colab": {
          "base_uri": "https://localhost:8080/",
          "height": 466
        },
        "id": "hgGuFLdsjY9x",
        "outputId": "63b16f57-c884-4707-c409-3f322a40a19d"
      },
      "execution_count": 111,
      "outputs": [
        {
          "output_type": "execute_result",
          "data": {
            "text/plain": [
              "<Axes: xlabel='FVC Range', ylabel='Count'>"
            ]
          },
          "metadata": {},
          "execution_count": 111
        },
        {
          "output_type": "display_data",
          "data": {
            "text/plain": [
              "<Figure size 640x480 with 1 Axes>"
            ],
            "image/png": "[encoded data removed]"
          },
          "metadata": {}
        }
      ]
    },
    {
      "cell_type": "markdown",
      "source": [
        "Health Scores:\n",
        "\n",
        "What is the distribution of CAT, HAD, and SGRQ scores?"
      ],
      "metadata": {
        "id": "ts6v0zunntPn"
      }
    },
    {
      "cell_type": "code",
      "source": [
        "#CAT Scores\n",
        "sns.boxplot(data['CAT'],saturation=0.75,color='orange')"
      ],
      "metadata": {
        "colab": {
          "base_uri": "https://localhost:8080/",
          "height": 447
        },
        "id": "MQcHHwm8nuOC",
        "outputId": "2a4713fb-17d8-42a4-cb31-d453510cb9e7"
      },
      "execution_count": 136,
      "outputs": [
        {
          "output_type": "execute_result",
          "data": {
            "text/plain": [
              "<Axes: >"
            ]
          },
          "metadata": {},
          "execution_count": 136
        },
        {
          "output_type": "display_data",
          "data": {
            "text/plain": [
              "<Figure size 640x480 with 1 Axes>"
            ],
            "image/png": "[encoded data removed]"
          },
          "metadata": {}
        }
      ]
    },
    {
      "cell_type": "code",
      "source": [
        "data['CAT'].describe()"
      ],
      "metadata": {
        "colab": {
          "base_uri": "https://localhost:8080/"
        },
        "id": "BeqOoBu-ppj_",
        "outputId": "b6136228-86f2-416a-fb02-2f947d03549c"
      },
      "execution_count": 133,
      "outputs": [
        {
          "output_type": "execute_result",
          "data": {
            "text/plain": [
              "count    101.000000\n",
              "mean      18.465347\n",
              "std       11.338928\n",
              "min        3.000000\n",
              "25%       12.000000\n",
              "50%       18.000000\n",
              "75%       24.000000\n",
              "max      100.000000\n",
              "Name: CAT, dtype: float64"
            ]
          },
          "metadata": {},
          "execution_count": 133
        }
      ]
    },
    {
      "cell_type": "code",
      "source": [
        "sns.distplot(data['CAT'])"
      ],
      "metadata": {
        "colab": {
          "base_uri": "https://localhost:8080/",
          "height": 466
        },
        "id": "bnm-zi3Npc8K",
        "outputId": "f2fba572-681b-4d55-ac4f-5b991a9781b9"
      },
      "execution_count": 131,
      "outputs": [
        {
          "output_type": "execute_result",
          "data": {
            "text/plain": [
              "<Axes: xlabel='CAT', ylabel='Density'>"
            ]
          },
          "metadata": {},
          "execution_count": 131
        },
        {
          "output_type": "display_data",
          "data": {
            "text/plain": [
              "<Figure size 640x480 with 1 Axes>"
            ],
            "image/png": "[encoded data removed]"
          },
          "metadata": {}
        }
      ]
    },
    {
      "cell_type": "code",
      "source": [
        "data['CAT'].value_counts(bins=2)"
      ],
      "metadata": {
        "colab": {
          "base_uri": "https://localhost:8080/"
        },
        "id": "qCPedsIhpEba",
        "outputId": "5d786ca0-329c-40a6-eb43-42283849c692"
      },
      "execution_count": 236,
      "outputs": [
        {
          "output_type": "execute_result",
          "data": {
            "text/plain": [
              "(17.5, 32.0]    52\n",
              "(2.97, 17.5]    49\n",
              "Name: CAT, dtype: int64"
            ]
          },
          "metadata": {},
          "execution_count": 236
        }
      ]
    },
    {
      "cell_type": "code",
      "source": [
        "data['gender'].unique()"
      ],
      "metadata": {
        "colab": {
          "base_uri": "https://localhost:8080/"
        },
        "id": "fPuiGtOeslVV",
        "outputId": "4f8f25e0-81a0-4aa0-8f3b-d06d38e131a7"
      },
      "execution_count": 237,
      "outputs": [
        {
          "output_type": "execute_result",
          "data": {
            "text/plain": [
              "array([ 1,  0, 10])"
            ]
          },
          "metadata": {},
          "execution_count": 237
        }
      ]
    },
    {
      "cell_type": "code",
      "source": [
        "data['gender'].value_counts().max()"
      ],
      "metadata": {
        "colab": {
          "base_uri": "https://localhost:8080/"
        },
        "id": "X_RPECqys8qR",
        "outputId": "9159bbd5-5796-4f7e-c88d-60a4dfc088aa"
      },
      "execution_count": 238,
      "outputs": [
        {
          "output_type": "execute_result",
          "data": {
            "text/plain": [
              "65"
            ]
          },
          "metadata": {},
          "execution_count": 238
        }
      ]
    },
    {
      "cell_type": "code",
      "source": [
        "data.loc[data['gender'] == 10, 'gender'] = 1\n",
        "data.loc[data['gender'] == 30, 'gender'] = 1"
      ],
      "metadata": {
        "id": "PfrVufYotRFo"
      },
      "execution_count": 241,
      "outputs": []
    },
    {
      "cell_type": "code",
      "source": [
        "df = data[['CAT','gender']]\n",
        "df['CAT Range'] = pd.cut(data['CAT'],bins=2)\n",
        "res = df.groupby(['CAT Range','gender']).size().unstack().reset_index()\n",
        "res"
      ],
      "metadata": {
        "colab": {
          "base_uri": "https://localhost:8080/",
          "height": 112
        },
        "id": "MZc3f0CQuTS5",
        "outputId": "8353a7ff-8d06-4862-e132-726b3f98e815"
      },
      "execution_count": 242,
      "outputs": [
        {
          "output_type": "execute_result",
          "data": {
            "text/plain": [
              "gender      CAT Range   0   1\n",
              "0       (2.971, 17.5]  17  32\n",
              "1        (17.5, 32.0]  18  34"
            ],
            "text/html": [
              "\n",
              "  <div id=\"df-ac797cfb-c7ce-4389-b10b-c738b55c7ee0\" class=\"colab-df-container\">\n",
              "    <div>\n",
              "<style scoped>\n",
              "    .dataframe tbody tr th:only-of-type {\n",
              "        vertical-align: middle;\n",
              "    }\n",
              "\n",
              "    .dataframe tbody tr th {\n",
              "        vertical-align: top;\n",
              "    }\n",
              "\n",
              "    .dataframe thead th {\n",
              "        text-align: right;\n",
              "    }\n",
              "</style>\n",
              "<table border=\"1\" class=\"dataframe\">\n",
              "  <thead>\n",
              "    <tr style=\"text-align: right;\">\n",
              "      <th>gender</th>\n",
              "      <th>CAT Range</th>\n",
              "      <th>0</th>\n",
              "      <th>1</th>\n",
              "    </tr>\n",
              "  </thead>\n",
              "  <tbody>\n",
              "    <tr>\n",
              "      <th>0</th>\n",
              "      <td>(2.971, 17.5]</td>\n",
              "      <td>17</td>\n",
              "      <td>32</td>\n",
              "    </tr>\n",
              "    <tr>\n",
              "      <th>1</th>\n",
              "      <td>(17.5, 32.0]</td>\n",
              "      <td>18</td>\n",
              "      <td>34</td>\n",
              "    </tr>\n",
              "  </tbody>\n",
              "</table>\n",
              "</div>\n",
              "    <div class=\"colab-df-buttons\">\n",
              "\n",
              "  <div class=\"colab-df-container\">\n",
              "    <button class=\"colab-df-convert\" onclick=\"convertToInteractive('df-ac797cfb-c7ce-4389-b10b-c738b55c7ee0')\"\n",
              "            title=\"Convert this dataframe to an interactive table.\"\n",
              "            style=\"display:none;\">\n",
              "\n",
              "  <svg xmlns=\"http://www.w3.org/2000/svg\" height=\"24px\" viewBox=\"0 -960 960 960\">\n",
              "    <path d=\"M120-120v-720h720v720H120Zm60-500h600v-160H180v160Zm220 220h160v-160H400v160Zm0 220h160v-160H400v160ZM180-400h160v-160H180v160Zm440 0h160v-160H620v160ZM180-180h160v-160H180v160Zm440 0h160v-160H620v160Z\"/>\n",
              "  </svg>\n",
              "    </button>\n",
              "\n",
              "  <style>\n",
              "    .colab-df-container {\n",
              "      display:flex;\n",
              "      gap: 12px;\n",
              "    }\n",
              "\n",
              "    .colab-df-convert {\n",
              "      background-color: #E8F0FE;\n",
              "      border: none;\n",
              "      border-radius: 50%;\n",
              "      cursor: pointer;\n",
              "      display: none;\n",
              "      fill: #1967D2;\n",
              "      height: 32px;\n",
              "      padding: 0 0 0 0;\n",
              "      width: 32px;\n",
              "    }\n",
              "\n",
              "    .colab-df-convert:hover {\n",
              "      background-color: #E2EBFA;\n",
              "      box-shadow: 0px 1px 2px rgba(60, 64, 67, 0.3), 0px 1px 3px 1px rgba(60, 64, 67, 0.15);\n",
              "      fill: #174EA6;\n",
              "    }\n",
              "\n",
              "    .colab-df-buttons div {\n",
              "      margin-bottom: 4px;\n",
              "    }\n",
              "\n",
              "    [theme=dark] .colab-df-convert {\n",
              "      background-color: #3B4455;\n",
              "      fill: #D2E3FC;\n",
              "    }\n",
              "\n",
              "    [theme=dark] .colab-df-convert:hover {\n",
              "      background-color: #434B5C;\n",
              "      box-shadow: 0px 1px 3px 1px rgba(0, 0, 0, 0.15);\n",
              "      filter: drop-shadow(0px 1px 2px rgba(0, 0, 0, 0.3));\n",
              "      fill: #FFFFFF;\n",
              "    }\n",
              "  </style>\n",
              "\n",
              "    <script>\n",
              "      const buttonEl =\n",
              "        document.querySelector('#df-ac797cfb-c7ce-4389-b10b-c738b55c7ee0 button.colab-df-convert');\n",
              "      buttonEl.style.display =\n",
              "        google.colab.kernel.accessAllowed ? 'block' : 'none';\n",
              "\n",
              "      async function convertToInteractive(key) {\n",
              "        const element = document.querySelector('#df-ac797cfb-c7ce-4389-b10b-c738b55c7ee0');\n",
              "        const dataTable =\n",
              "          await google.colab.kernel.invokeFunction('convertToInteractive',\n",
              "                                                    [key], {});\n",
              "        if (!dataTable) return;\n",
              "\n",
              "        const docLinkHtml = 'Like what you see? Visit the ' +\n",
              "          '<a target=\"_blank\" href=https://colab.research.google.com/notebooks/data_table.ipynb>data table notebook</a>'\n",
              "          + ' to learn more about interactive tables.';\n",
              "        element.innerHTML = '';\n",
              "        dataTable['output_type'] = 'display_data';\n",
              "        await google.colab.output.renderOutput(dataTable, element);\n",
              "        const docLink = document.createElement('div');\n",
              "        docLink.innerHTML = docLinkHtml;\n",
              "        element.appendChild(docLink);\n",
              "      }\n",
              "    </script>\n",
              "  </div>\n",
              "\n",
              "\n",
              "<div id=\"df-6e05fca1-1c89-4c8f-bd72-8a4e0ccf0e42\">\n",
              "  <button class=\"colab-df-quickchart\" onclick=\"quickchart('df-6e05fca1-1c89-4c8f-bd72-8a4e0ccf0e42')\"\n",
              "            title=\"Suggest charts\"\n",
              "            style=\"display:none;\">\n",
              "\n",
              "<svg xmlns=\"http://www.w3.org/2000/svg\" height=\"24px\"viewBox=\"0 0 24 24\"\n",
              "     width=\"24px\">\n",
              "    <g>\n",
              "        <path d=\"M19 3H5c-1.1 0-2 .9-2 2v14c0 1.1.9 2 2 2h14c1.1 0 2-.9 2-2V5c0-1.1-.9-2-2-2zM9 17H7v-7h2v7zm4 0h-2V7h2v10zm4 0h-2v-4h2v4z\"/>\n",
              "    </g>\n",
              "</svg>\n",
              "  </button>\n",
              "\n",
              "<style>\n",
              "  .colab-df-quickchart {\n",
              "      --bg-color: #E8F0FE;\n",
              "      --fill-color: #1967D2;\n",
              "      --hover-bg-color: #E2EBFA;\n",
              "      --hover-fill-color: #174EA6;\n",
              "      --disabled-fill-color: #AAA;\n",
              "      --disabled-bg-color: #DDD;\n",
              "  }\n",
              "\n",
              "  [theme=dark] .colab-df-quickchart {\n",
              "      --bg-color: #3B4455;\n",
              "      --fill-color: #D2E3FC;\n",
              "      --hover-bg-color: #434B5C;\n",
              "      --hover-fill-color: #FFFFFF;\n",
              "      --disabled-bg-color: #3B4455;\n",
              "      --disabled-fill-color: #666;\n",
              "  }\n",
              "\n",
              "  .colab-df-quickchart {\n",
              "    background-color: var(--bg-color);\n",
              "    border: none;\n",
              "    border-radius: 50%;\n",
              "    cursor: pointer;\n",
              "    display: none;\n",
              "    fill: var(--fill-color);\n",
              "    height: 32px;\n",
              "    padding: 0;\n",
              "    width: 32px;\n",
              "  }\n",
              "\n",
              "  .colab-df-quickchart:hover {\n",
              "    background-color: var(--hover-bg-color);\n",
              "    box-shadow: 0 1px 2px rgba(60, 64, 67, 0.3), 0 1px 3px 1px rgba(60, 64, 67, 0.15);\n",
              "    fill: var(--button-hover-fill-color);\n",
              "  }\n",
              "\n",
              "  .colab-df-quickchart-complete:disabled,\n",
              "  .colab-df-quickchart-complete:disabled:hover {\n",
              "    background-color: var(--disabled-bg-color);\n",
              "    fill: var(--disabled-fill-color);\n",
              "    box-shadow: none;\n",
              "  }\n",
              "\n",
              "  .colab-df-spinner {\n",
              "    border: 2px solid var(--fill-color);\n",
              "    border-color: transparent;\n",
              "    border-bottom-color: var(--fill-color);\n",
              "    animation:\n",
              "      spin 1s steps(1) infinite;\n",
              "  }\n",
              "\n",
              "  @keyframes spin {\n",
              "    0% {\n",
              "      border-color: transparent;\n",
              "      border-bottom-color: var(--fill-color);\n",
              "      border-left-color: var(--fill-color);\n",
              "    }\n",
              "    20% {\n",
              "      border-color: transparent;\n",
              "      border-left-color: var(--fill-color);\n",
              "      border-top-color: var(--fill-color);\n",
              "    }\n",
              "    30% {\n",
              "      border-color: transparent;\n",
              "      border-left-color: var(--fill-color);\n",
              "      border-top-color: var(--fill-color);\n",
              "      border-right-color: var(--fill-color);\n",
              "    }\n",
              "    40% {\n",
              "      border-color: transparent;\n",
              "      border-right-color: var(--fill-color);\n",
              "      border-top-color: var(--fill-color);\n",
              "    }\n",
              "    60% {\n",
              "      border-color: transparent;\n",
              "      border-right-color: var(--fill-color);\n",
              "    }\n",
              "    80% {\n",
              "      border-color: transparent;\n",
              "      border-right-color: var(--fill-color);\n",
              "      border-bottom-color: var(--fill-color);\n",
              "    }\n",
              "    90% {\n",
              "      border-color: transparent;\n",
              "      border-bottom-color: var(--fill-color);\n",
              "    }\n",
              "  }\n",
              "</style>\n",
              "\n",
              "  <script>\n",
              "    async function quickchart(key) {\n",
              "      const quickchartButtonEl =\n",
              "        document.querySelector('#' + key + ' button');\n",
              "      quickchartButtonEl.disabled = true;  // To prevent multiple clicks.\n",
              "      quickchartButtonEl.classList.add('colab-df-spinner');\n",
              "      try {\n",
              "        const charts = await google.colab.kernel.invokeFunction(\n",
              "            'suggestCharts', [key], {});\n",
              "      } catch (error) {\n",
              "        console.error('Error during call to suggestCharts:', error);\n",
              "      }\n",
              "      quickchartButtonEl.classList.remove('colab-df-spinner');\n",
              "      quickchartButtonEl.classList.add('colab-df-quickchart-complete');\n",
              "    }\n",
              "    (() => {\n",
              "      let quickchartButtonEl =\n",
              "        document.querySelector('#df-6e05fca1-1c89-4c8f-bd72-8a4e0ccf0e42 button');\n",
              "      quickchartButtonEl.style.display =\n",
              "        google.colab.kernel.accessAllowed ? 'block' : 'none';\n",
              "    })();\n",
              "  </script>\n",
              "</div>\n",
              "    </div>\n",
              "  </div>\n"
            ]
          },
          "metadata": {},
          "execution_count": 242
        }
      ]
    },
    {
      "cell_type": "code",
      "source": [
        "df_melted = pd.melt(res,id_vars= 'CAT Range',var_name = 'gender',value_name='Count')\n",
        "df_melted['CAT Range'] = df_melted['CAT Range'].astype('str')\n",
        "for i,row in enumerate(df_melted['CAT Range']):\n",
        " df_melted['CAT Range'][i] = row[1:-1]\n",
        "sns.barplot(data = df_melted,x='CAT Range',y='Count',hue='gender',palette='viridis',saturation=0.5)"
      ],
      "metadata": {
        "colab": {
          "base_uri": "https://localhost:8080/",
          "height": 466
        },
        "id": "7zU89hHNueJX",
        "outputId": "e2cdeb66-8b8f-40c0-d3f3-5d9693f88185"
      },
      "execution_count": 243,
      "outputs": [
        {
          "output_type": "execute_result",
          "data": {
            "text/plain": [
              "<Axes: xlabel='CAT Range', ylabel='Count'>"
            ]
          },
          "metadata": {},
          "execution_count": 243
        },
        {
          "output_type": "display_data",
          "data": {
            "text/plain": [
              "<Figure size 640x480 with 1 Axes>"
            ],
            "image/png": "[encoded data removed]"
          },
          "metadata": {}
        }
      ]
    },
    {
      "cell_type": "code",
      "source": [
        "data['HAD'].describe()"
      ],
      "metadata": {
        "colab": {
          "base_uri": "https://localhost:8080/"
        },
        "id": "SY9d6jU5wJm3",
        "outputId": "084c0333-bcb9-4529-c73c-94fb4cee34ae"
      },
      "execution_count": 244,
      "outputs": [
        {
          "output_type": "execute_result",
          "data": {
            "text/plain": [
              "count    101.000000\n",
              "mean      10.960396\n",
              "std        7.532491\n",
              "min        0.000000\n",
              "25%        6.000000\n",
              "50%       10.000000\n",
              "75%       15.000000\n",
              "max       30.000000\n",
              "Name: HAD, dtype: float64"
            ]
          },
          "metadata": {},
          "execution_count": 244
        }
      ]
    },
    {
      "cell_type": "code",
      "source": [
        "sns.boxplot(data['HAD'])"
      ],
      "metadata": {
        "colab": {
          "base_uri": "https://localhost:8080/",
          "height": 447
        },
        "id": "bua3pvIPwUFZ",
        "outputId": "c529beee-c99c-4776-eaf6-46b0e732d82b"
      },
      "execution_count": 245,
      "outputs": [
        {
          "output_type": "execute_result",
          "data": {
            "text/plain": [
              "<Axes: >"
            ]
          },
          "metadata": {},
          "execution_count": 245
        },
        {
          "output_type": "display_data",
          "data": {
            "text/plain": [
              "<Figure size 640x480 with 1 Axes>"
            ],
            "image/png": "[encoded data removed]"
          },
          "metadata": {}
        }
      ]
    },
    {
      "cell_type": "code",
      "source": [
        "sns.distplot(data['HAD'])"
      ],
      "metadata": {
        "colab": {
          "base_uri": "https://localhost:8080/",
          "height": 466
        },
        "id": "BLCgfctlwiGB",
        "outputId": "81b16485-a879-4947-da7d-92c606882ab7"
      },
      "execution_count": 246,
      "outputs": [
        {
          "output_type": "execute_result",
          "data": {
            "text/plain": [
              "<Axes: xlabel='HAD', ylabel='Density'>"
            ]
          },
          "metadata": {},
          "execution_count": 246
        },
        {
          "output_type": "display_data",
          "data": {
            "text/plain": [
              "<Figure size 640x480 with 1 Axes>"
            ],
            "image/png": "[encoded data removed]"
          },
          "metadata": {}
        }
      ]
    },
    {
      "cell_type": "code",
      "source": [
        "data[data['HAD'] > 50] = data['HAD'].median()"
      ],
      "metadata": {
        "id": "NP0UHD6Hwzaw"
      },
      "execution_count": 247,
      "outputs": []
    },
    {
      "cell_type": "code",
      "source": [
        "sns.boxplot(data['HAD'])"
      ],
      "metadata": {
        "colab": {
          "base_uri": "https://localhost:8080/",
          "height": 447
        },
        "id": "rRc8CQz9xAWk",
        "outputId": "88cee541-5323-485f-c9a3-f3ebbdcad868"
      },
      "execution_count": 248,
      "outputs": [
        {
          "output_type": "execute_result",
          "data": {
            "text/plain": [
              "<Axes: >"
            ]
          },
          "metadata": {},
          "execution_count": 248
        },
        {
          "output_type": "display_data",
          "data": {
            "text/plain": [
              "<Figure size 640x480 with 1 Axes>"
            ],
            "image/png": "[encoded data removed]"
          },
          "metadata": {}
        }
      ]
    },
    {
      "cell_type": "code",
      "source": [
        "data['HAD'].value_counts(bins = 3)"
      ],
      "metadata": {
        "colab": {
          "base_uri": "https://localhost:8080/"
        },
        "id": "ZEEU1XvrxHVz",
        "outputId": "48c36a7a-38dc-44c1-aadc-7a6510156b47"
      },
      "execution_count": 249,
      "outputs": [
        {
          "output_type": "execute_result",
          "data": {
            "text/plain": [
              "(-0.031, 10.0]    56\n",
              "(10.0, 20.0]      32\n",
              "(20.0, 30.0]      13\n",
              "Name: HAD, dtype: int64"
            ]
          },
          "metadata": {},
          "execution_count": 249
        }
      ]
    },
    {
      "cell_type": "code",
      "source": [
        "df = data[['HAD','gender']]\n",
        "print(df['gender'].unique())\n",
        "df['HAD Range'] = pd.cut(data['HAD'],bins=3)\n",
        "res = df.groupby(['HAD Range','gender']).size().unstack().reset_index()\n",
        "res"
      ],
      "metadata": {
        "colab": {
          "base_uri": "https://localhost:8080/",
          "height": 161
        },
        "id": "F791Gn6kxVEz",
        "outputId": "5c34b2d7-6099-4364-9bed-305970f905f3"
      },
      "execution_count": 341,
      "outputs": [
        {
          "output_type": "stream",
          "name": "stdout",
          "text": [
            "[1 0]\n"
          ]
        },
        {
          "output_type": "execute_result",
          "data": {
            "text/plain": [
              "gender      HAD Range   0   1\n",
              "0       (-0.03, 10.0]  15  40\n",
              "1        (10.0, 20.0]  15  17\n",
              "2        (20.0, 30.0]   5   7"
            ],
            "text/html": [
              "\n",
              "  <div id=\"df-b53d2a91-8091-4117-be87-5c96691799e5\" class=\"colab-df-container\">\n",
              "    <div>\n",
              "<style scoped>\n",
              "    .dataframe tbody tr th:only-of-type {\n",
              "        vertical-align: middle;\n",
              "    }\n",
              "\n",
              "    .dataframe tbody tr th {\n",
              "        vertical-align: top;\n",
              "    }\n",
              "\n",
              "    .dataframe thead th {\n",
              "        text-align: right;\n",
              "    }\n",
              "</style>\n",
              "<table border=\"1\" class=\"dataframe\">\n",
              "  <thead>\n",
              "    <tr style=\"text-align: right;\">\n",
              "      <th>gender</th>\n",
              "      <th>HAD Range</th>\n",
              "      <th>0</th>\n",
              "      <th>1</th>\n",
              "    </tr>\n",
              "  </thead>\n",
              "  <tbody>\n",
              "    <tr>\n",
              "      <th>0</th>\n",
              "      <td>(-0.03, 10.0]</td>\n",
              "      <td>15</td>\n",
              "      <td>40</td>\n",
              "    </tr>\n",
              "    <tr>\n",
              "      <th>1</th>\n",
              "      <td>(10.0, 20.0]</td>\n",
              "      <td>15</td>\n",
              "      <td>17</td>\n",
              "    </tr>\n",
              "    <tr>\n",
              "      <th>2</th>\n",
              "      <td>(20.0, 30.0]</td>\n",
              "      <td>5</td>\n",
              "      <td>7</td>\n",
              "    </tr>\n",
              "  </tbody>\n",
              "</table>\n",
              "</div>\n",
              "    <div class=\"colab-df-buttons\">\n",
              "\n",
              "  <div class=\"colab-df-container\">\n",
              "    <button class=\"colab-df-convert\" onclick=\"convertToInteractive('df-b53d2a91-8091-4117-be87-5c96691799e5')\"\n",
              "            title=\"Convert this dataframe to an interactive table.\"\n",
              "            style=\"display:none;\">\n",
              "\n",
              "  <svg xmlns=\"http://www.w3.org/2000/svg\" height=\"24px\" viewBox=\"0 -960 960 960\">\n",
              "    <path d=\"M120-120v-720h720v720H120Zm60-500h600v-160H180v160Zm220 220h160v-160H400v160Zm0 220h160v-160H400v160ZM180-400h160v-160H180v160Zm440 0h160v-160H620v160ZM180-180h160v-160H180v160Zm440 0h160v-160H620v160Z\"/>\n",
              "  </svg>\n",
              "    </button>\n",
              "\n",
              "  <style>\n",
              "    .colab-df-container {\n",
              "      display:flex;\n",
              "      gap: 12px;\n",
              "    }\n",
              "\n",
              "    .colab-df-convert {\n",
              "      background-color: #E8F0FE;\n",
              "      border: none;\n",
              "      border-radius: 50%;\n",
              "      cursor: pointer;\n",
              "      display: none;\n",
              "      fill: #1967D2;\n",
              "      height: 32px;\n",
              "      padding: 0 0 0 0;\n",
              "      width: 32px;\n",
              "    }\n",
              "\n",
              "    .colab-df-convert:hover {\n",
              "      background-color: #E2EBFA;\n",
              "      box-shadow: 0px 1px 2px rgba(60, 64, 67, 0.3), 0px 1px 3px 1px rgba(60, 64, 67, 0.15);\n",
              "      fill: #174EA6;\n",
              "    }\n",
              "\n",
              "    .colab-df-buttons div {\n",
              "      margin-bottom: 4px;\n",
              "    }\n",
              "\n",
              "    [theme=dark] .colab-df-convert {\n",
              "      background-color: #3B4455;\n",
              "      fill: #D2E3FC;\n",
              "    }\n",
              "\n",
              "    [theme=dark] .colab-df-convert:hover {\n",
              "      background-color: #434B5C;\n",
              "      box-shadow: 0px 1px 3px 1px rgba(0, 0, 0, 0.15);\n",
              "      filter: drop-shadow(0px 1px 2px rgba(0, 0, 0, 0.3));\n",
              "      fill: #FFFFFF;\n",
              "    }\n",
              "  </style>\n",
              "\n",
              "    <script>\n",
              "      const buttonEl =\n",
              "        document.querySelector('#df-b53d2a91-8091-4117-be87-5c96691799e5 button.colab-df-convert');\n",
              "      buttonEl.style.display =\n",
              "        google.colab.kernel.accessAllowed ? 'block' : 'none';\n",
              "\n",
              "      async function convertToInteractive(key) {\n",
              "        const element = document.querySelector('#df-b53d2a91-8091-4117-be87-5c96691799e5');\n",
              "        const dataTable =\n",
              "          await google.colab.kernel.invokeFunction('convertToInteractive',\n",
              "                                                    [key], {});\n",
              "        if (!dataTable) return;\n",
              "\n",
              "        const docLinkHtml = 'Like what you see? Visit the ' +\n",
              "          '<a target=\"_blank\" href=https://colab.research.google.com/notebooks/data_table.ipynb>data table notebook</a>'\n",
              "          + ' to learn more about interactive tables.';\n",
              "        element.innerHTML = '';\n",
              "        dataTable['output_type'] = 'display_data';\n",
              "        await google.colab.output.renderOutput(dataTable, element);\n",
              "        const docLink = document.createElement('div');\n",
              "        docLink.innerHTML = docLinkHtml;\n",
              "        element.appendChild(docLink);\n",
              "      }\n",
              "    </script>\n",
              "  </div>\n",
              "\n",
              "\n",
              "<div id=\"df-235756c1-dd43-40a4-be6a-17714f5e902e\">\n",
              "  <button class=\"colab-df-quickchart\" onclick=\"quickchart('df-235756c1-dd43-40a4-be6a-17714f5e902e')\"\n",
              "            title=\"Suggest charts\"\n",
              "            style=\"display:none;\">\n",
              "\n",
              "<svg xmlns=\"http://www.w3.org/2000/svg\" height=\"24px\"viewBox=\"0 0 24 24\"\n",
              "     width=\"24px\">\n",
              "    <g>\n",
              "        <path d=\"M19 3H5c-1.1 0-2 .9-2 2v14c0 1.1.9 2 2 2h14c1.1 0 2-.9 2-2V5c0-1.1-.9-2-2-2zM9 17H7v-7h2v7zm4 0h-2V7h2v10zm4 0h-2v-4h2v4z\"/>\n",
              "    </g>\n",
              "</svg>\n",
              "  </button>\n",
              "\n",
              "<style>\n",
              "  .colab-df-quickchart {\n",
              "      --bg-color: #E8F0FE;\n",
              "      --fill-color: #1967D2;\n",
              "      --hover-bg-color: #E2EBFA;\n",
              "      --hover-fill-color: #174EA6;\n",
              "      --disabled-fill-color: #AAA;\n",
              "      --disabled-bg-color: #DDD;\n",
              "  }\n",
              "\n",
              "  [theme=dark] .colab-df-quickchart {\n",
              "      --bg-color: #3B4455;\n",
              "      --fill-color: #D2E3FC;\n",
              "      --hover-bg-color: #434B5C;\n",
              "      --hover-fill-color: #FFFFFF;\n",
              "      --disabled-bg-color: #3B4455;\n",
              "      --disabled-fill-color: #666;\n",
              "  }\n",
              "\n",
              "  .colab-df-quickchart {\n",
              "    background-color: var(--bg-color);\n",
              "    border: none;\n",
              "    border-radius: 50%;\n",
              "    cursor: pointer;\n",
              "    display: none;\n",
              "    fill: var(--fill-color);\n",
              "    height: 32px;\n",
              "    padding: 0;\n",
              "    width: 32px;\n",
              "  }\n",
              "\n",
              "  .colab-df-quickchart:hover {\n",
              "    background-color: var(--hover-bg-color);\n",
              "    box-shadow: 0 1px 2px rgba(60, 64, 67, 0.3), 0 1px 3px 1px rgba(60, 64, 67, 0.15);\n",
              "    fill: var(--button-hover-fill-color);\n",
              "  }\n",
              "\n",
              "  .colab-df-quickchart-complete:disabled,\n",
              "  .colab-df-quickchart-complete:disabled:hover {\n",
              "    background-color: var(--disabled-bg-color);\n",
              "    fill: var(--disabled-fill-color);\n",
              "    box-shadow: none;\n",
              "  }\n",
              "\n",
              "  .colab-df-spinner {\n",
              "    border: 2px solid var(--fill-color);\n",
              "    border-color: transparent;\n",
              "    border-bottom-color: var(--fill-color);\n",
              "    animation:\n",
              "      spin 1s steps(1) infinite;\n",
              "  }\n",
              "\n",
              "  @keyframes spin {\n",
              "    0% {\n",
              "      border-color: transparent;\n",
              "      border-bottom-color: var(--fill-color);\n",
              "      border-left-color: var(--fill-color);\n",
              "    }\n",
              "    20% {\n",
              "      border-color: transparent;\n",
              "      border-left-color: var(--fill-color);\n",
              "      border-top-color: var(--fill-color);\n",
              "    }\n",
              "    30% {\n",
              "      border-color: transparent;\n",
              "      border-left-color: var(--fill-color);\n",
              "      border-top-color: var(--fill-color);\n",
              "      border-right-color: var(--fill-color);\n",
              "    }\n",
              "    40% {\n",
              "      border-color: transparent;\n",
              "      border-right-color: var(--fill-color);\n",
              "      border-top-color: var(--fill-color);\n",
              "    }\n",
              "    60% {\n",
              "      border-color: transparent;\n",
              "      border-right-color: var(--fill-color);\n",
              "    }\n",
              "    80% {\n",
              "      border-color: transparent;\n",
              "      border-right-color: var(--fill-color);\n",
              "      border-bottom-color: var(--fill-color);\n",
              "    }\n",
              "    90% {\n",
              "      border-color: transparent;\n",
              "      border-bottom-color: var(--fill-color);\n",
              "    }\n",
              "  }\n",
              "</style>\n",
              "\n",
              "  <script>\n",
              "    async function quickchart(key) {\n",
              "      const quickchartButtonEl =\n",
              "        document.querySelector('#' + key + ' button');\n",
              "      quickchartButtonEl.disabled = true;  // To prevent multiple clicks.\n",
              "      quickchartButtonEl.classList.add('colab-df-spinner');\n",
              "      try {\n",
              "        const charts = await google.colab.kernel.invokeFunction(\n",
              "            'suggestCharts', [key], {});\n",
              "      } catch (error) {\n",
              "        console.error('Error during call to suggestCharts:', error);\n",
              "      }\n",
              "      quickchartButtonEl.classList.remove('colab-df-spinner');\n",
              "      quickchartButtonEl.classList.add('colab-df-quickchart-complete');\n",
              "    }\n",
              "    (() => {\n",
              "      let quickchartButtonEl =\n",
              "        document.querySelector('#df-235756c1-dd43-40a4-be6a-17714f5e902e button');\n",
              "      quickchartButtonEl.style.display =\n",
              "        google.colab.kernel.accessAllowed ? 'block' : 'none';\n",
              "    })();\n",
              "  </script>\n",
              "</div>\n",
              "    </div>\n",
              "  </div>\n"
            ]
          },
          "metadata": {},
          "execution_count": 341
        }
      ]
    },
    {
      "cell_type": "code",
      "source": [
        "df_melt = pd.melt(res,id_vars = 'HAD Range',var_name='gender',value_name='Counts')\n",
        "df_melt['HAD Range'] = df_melt['HAD Range'].astype('str')\n",
        "for i,row in enumerate(df_melt['HAD Range']):\n",
        " df_melt['HAD Range'][i] = row[1:-1]\n",
        "sns.barplot(data=df_melt,x='HAD Range',y='Counts',hue='gender',palette='viridis')"
      ],
      "metadata": {
        "colab": {
          "base_uri": "https://localhost:8080/",
          "height": 466
        },
        "id": "Nv8-9vjxyTPD",
        "outputId": "237fc190-5bc7-49de-f9db-5a8370d70b41"
      },
      "execution_count": 342,
      "outputs": [
        {
          "output_type": "execute_result",
          "data": {
            "text/plain": [
              "<Axes: xlabel='HAD Range', ylabel='Counts'>"
            ]
          },
          "metadata": {},
          "execution_count": 342
        },
        {
          "output_type": "display_data",
          "data": {
            "text/plain": [
              "<Figure size 640x480 with 1 Axes>"
            ],
            "image/png": "[encoded data removed]"
          },
          "metadata": {}
        }
      ]
    },
    {
      "cell_type": "markdown",
      "source": [
        "COPD Analysis:\n",
        "\n",
        "What is the COPD prevalence, and how does it differ by gender?"
      ],
      "metadata": {
        "id": "j5sEYrqjz8QQ"
      }
    },
    {
      "cell_type": "code",
      "source": [
        "data.drop(data[data['copd']==30].index,axis=0,inplace=True)"
      ],
      "metadata": {
        "id": "BemrsyIu3bRF"
      },
      "execution_count": 285,
      "outputs": []
    },
    {
      "cell_type": "code",
      "source": [
        "data.drop(data[data['copd']==10].index,axis=0,inplace=True)"
      ],
      "metadata": {
        "id": "v4wY9-T43hOJ"
      },
      "execution_count": 289,
      "outputs": []
    },
    {
      "cell_type": "code",
      "source": [
        "df = data[['gender','copd']]\n",
        "gender_fem = {}\n",
        "for x in df[df['gender']==0]['copd']:\n",
        "  if(x in gender_fem):\n",
        "    gender_fem[x]+=1\n",
        "  else:\n",
        "    gender_fem[x] =1\n",
        "females_COPD  = df.groupby(['gender','copd']).size().unstack()\n",
        "females_COPD.reset_index(inplace=True)\n",
        "females_COPD"
      ],
      "metadata": {
        "colab": {
          "base_uri": "https://localhost:8080/",
          "height": 112
        },
        "id": "VrTkbQtP0BO1",
        "outputId": "302b4397-d9b7-43fe-f1ca-ed74af88953d"
      },
      "execution_count": 320,
      "outputs": [
        {
          "output_type": "execute_result",
          "data": {
            "text/plain": [
              "copd  gender   1   2   3  4\n",
              "0          0   7  18   7  3\n",
              "1          1  14  25  20  5"
            ],
            "text/html": [
              "\n",
              "  <div id=\"df-7be4fcb5-86fc-4414-837d-78dd79dd6c37\" class=\"colab-df-container\">\n",
              "    <div>\n",
              "<style scoped>\n",
              "    .dataframe tbody tr th:only-of-type {\n",
              "        vertical-align: middle;\n",
              "    }\n",
              "\n",
              "    .dataframe tbody tr th {\n",
              "        vertical-align: top;\n",
              "    }\n",
              "\n",
              "    .dataframe thead th {\n",
              "        text-align: right;\n",
              "    }\n",
              "</style>\n",
              "<table border=\"1\" class=\"dataframe\">\n",
              "  <thead>\n",
              "    <tr style=\"text-align: right;\">\n",
              "      <th>copd</th>\n",
              "      <th>gender</th>\n",
              "      <th>1</th>\n",
              "      <th>2</th>\n",
              "      <th>3</th>\n",
              "      <th>4</th>\n",
              "    </tr>\n",
              "  </thead>\n",
              "  <tbody>\n",
              "    <tr>\n",
              "      <th>0</th>\n",
              "      <td>0</td>\n",
              "      <td>7</td>\n",
              "      <td>18</td>\n",
              "      <td>7</td>\n",
              "      <td>3</td>\n",
              "    </tr>\n",
              "    <tr>\n",
              "      <th>1</th>\n",
              "      <td>1</td>\n",
              "      <td>14</td>\n",
              "      <td>25</td>\n",
              "      <td>20</td>\n",
              "      <td>5</td>\n",
              "    </tr>\n",
              "  </tbody>\n",
              "</table>\n",
              "</div>\n",
              "    <div class=\"colab-df-buttons\">\n",
              "\n",
              "  <div class=\"colab-df-container\">\n",
              "    <button class=\"colab-df-convert\" onclick=\"convertToInteractive('df-7be4fcb5-86fc-4414-837d-78dd79dd6c37')\"\n",
              "            title=\"Convert this dataframe to an interactive table.\"\n",
              "            style=\"display:none;\">\n",
              "\n",
              "  <svg xmlns=\"http://www.w3.org/2000/svg\" height=\"24px\" viewBox=\"0 -960 960 960\">\n",
              "    <path d=\"M120-120v-720h720v720H120Zm60-500h600v-160H180v160Zm220 220h160v-160H400v160Zm0 220h160v-160H400v160ZM180-400h160v-160H180v160Zm440 0h160v-160H620v160ZM180-180h160v-160H180v160Zm440 0h160v-160H620v160Z\"/>\n",
              "  </svg>\n",
              "    </button>\n",
              "\n",
              "  <style>\n",
              "    .colab-df-container {\n",
              "      display:flex;\n",
              "      gap: 12px;\n",
              "    }\n",
              "\n",
              "    .colab-df-convert {\n",
              "      background-color: #E8F0FE;\n",
              "      border: none;\n",
              "      border-radius: 50%;\n",
              "      cursor: pointer;\n",
              "      display: none;\n",
              "      fill: #1967D2;\n",
              "      height: 32px;\n",
              "      padding: 0 0 0 0;\n",
              "      width: 32px;\n",
              "    }\n",
              "\n",
              "    .colab-df-convert:hover {\n",
              "      background-color: #E2EBFA;\n",
              "      box-shadow: 0px 1px 2px rgba(60, 64, 67, 0.3), 0px 1px 3px 1px rgba(60, 64, 67, 0.15);\n",
              "      fill: #174EA6;\n",
              "    }\n",
              "\n",
              "    .colab-df-buttons div {\n",
              "      margin-bottom: 4px;\n",
              "    }\n",
              "\n",
              "    [theme=dark] .colab-df-convert {\n",
              "      background-color: #3B4455;\n",
              "      fill: #D2E3FC;\n",
              "    }\n",
              "\n",
              "    [theme=dark] .colab-df-convert:hover {\n",
              "      background-color: #434B5C;\n",
              "      box-shadow: 0px 1px 3px 1px rgba(0, 0, 0, 0.15);\n",
              "      filter: drop-shadow(0px 1px 2px rgba(0, 0, 0, 0.3));\n",
              "      fill: #FFFFFF;\n",
              "    }\n",
              "  </style>\n",
              "\n",
              "    <script>\n",
              "      const buttonEl =\n",
              "        document.querySelector('#df-7be4fcb5-86fc-4414-837d-78dd79dd6c37 button.colab-df-convert');\n",
              "      buttonEl.style.display =\n",
              "        google.colab.kernel.accessAllowed ? 'block' : 'none';\n",
              "\n",
              "      async function convertToInteractive(key) {\n",
              "        const element = document.querySelector('#df-7be4fcb5-86fc-4414-837d-78dd79dd6c37');\n",
              "        const dataTable =\n",
              "          await google.colab.kernel.invokeFunction('convertToInteractive',\n",
              "                                                    [key], {});\n",
              "        if (!dataTable) return;\n",
              "\n",
              "        const docLinkHtml = 'Like what you see? Visit the ' +\n",
              "          '<a target=\"_blank\" href=https://colab.research.google.com/notebooks/data_table.ipynb>data table notebook</a>'\n",
              "          + ' to learn more about interactive tables.';\n",
              "        element.innerHTML = '';\n",
              "        dataTable['output_type'] = 'display_data';\n",
              "        await google.colab.output.renderOutput(dataTable, element);\n",
              "        const docLink = document.createElement('div');\n",
              "        docLink.innerHTML = docLinkHtml;\n",
              "        element.appendChild(docLink);\n",
              "      }\n",
              "    </script>\n",
              "  </div>\n",
              "\n",
              "\n",
              "<div id=\"df-55d13844-b24d-429e-8907-87832ef66c8d\">\n",
              "  <button class=\"colab-df-quickchart\" onclick=\"quickchart('df-55d13844-b24d-429e-8907-87832ef66c8d')\"\n",
              "            title=\"Suggest charts\"\n",
              "            style=\"display:none;\">\n",
              "\n",
              "<svg xmlns=\"http://www.w3.org/2000/svg\" height=\"24px\"viewBox=\"0 0 24 24\"\n",
              "     width=\"24px\">\n",
              "    <g>\n",
              "        <path d=\"M19 3H5c-1.1 0-2 .9-2 2v14c0 1.1.9 2 2 2h14c1.1 0 2-.9 2-2V5c0-1.1-.9-2-2-2zM9 17H7v-7h2v7zm4 0h-2V7h2v10zm4 0h-2v-4h2v4z\"/>\n",
              "    </g>\n",
              "</svg>\n",
              "  </button>\n",
              "\n",
              "<style>\n",
              "  .colab-df-quickchart {\n",
              "      --bg-color: #E8F0FE;\n",
              "      --fill-color: #1967D2;\n",
              "      --hover-bg-color: #E2EBFA;\n",
              "      --hover-fill-color: #174EA6;\n",
              "      --disabled-fill-color: #AAA;\n",
              "      --disabled-bg-color: #DDD;\n",
              "  }\n",
              "\n",
              "  [theme=dark] .colab-df-quickchart {\n",
              "      --bg-color: #3B4455;\n",
              "      --fill-color: #D2E3FC;\n",
              "      --hover-bg-color: #434B5C;\n",
              "      --hover-fill-color: #FFFFFF;\n",
              "      --disabled-bg-color: #3B4455;\n",
              "      --disabled-fill-color: #666;\n",
              "  }\n",
              "\n",
              "  .colab-df-quickchart {\n",
              "    background-color: var(--bg-color);\n",
              "    border: none;\n",
              "    border-radius: 50%;\n",
              "    cursor: pointer;\n",
              "    display: none;\n",
              "    fill: var(--fill-color);\n",
              "    height: 32px;\n",
              "    padding: 0;\n",
              "    width: 32px;\n",
              "  }\n",
              "\n",
              "  .colab-df-quickchart:hover {\n",
              "    background-color: var(--hover-bg-color);\n",
              "    box-shadow: 0 1px 2px rgba(60, 64, 67, 0.3), 0 1px 3px 1px rgba(60, 64, 67, 0.15);\n",
              "    fill: var(--button-hover-fill-color);\n",
              "  }\n",
              "\n",
              "  .colab-df-quickchart-complete:disabled,\n",
              "  .colab-df-quickchart-complete:disabled:hover {\n",
              "    background-color: var(--disabled-bg-color);\n",
              "    fill: var(--disabled-fill-color);\n",
              "    box-shadow: none;\n",
              "  }\n",
              "\n",
              "  .colab-df-spinner {\n",
              "    border: 2px solid var(--fill-color);\n",
              "    border-color: transparent;\n",
              "    border-bottom-color: var(--fill-color);\n",
              "    animation:\n",
              "      spin 1s steps(1) infinite;\n",
              "  }\n",
              "\n",
              "  @keyframes spin {\n",
              "    0% {\n",
              "      border-color: transparent;\n",
              "      border-bottom-color: var(--fill-color);\n",
              "      border-left-color: var(--fill-color);\n",
              "    }\n",
              "    20% {\n",
              "      border-color: transparent;\n",
              "      border-left-color: var(--fill-color);\n",
              "      border-top-color: var(--fill-color);\n",
              "    }\n",
              "    30% {\n",
              "      border-color: transparent;\n",
              "      border-left-color: var(--fill-color);\n",
              "      border-top-color: var(--fill-color);\n",
              "      border-right-color: var(--fill-color);\n",
              "    }\n",
              "    40% {\n",
              "      border-color: transparent;\n",
              "      border-right-color: var(--fill-color);\n",
              "      border-top-color: var(--fill-color);\n",
              "    }\n",
              "    60% {\n",
              "      border-color: transparent;\n",
              "      border-right-color: var(--fill-color);\n",
              "    }\n",
              "    80% {\n",
              "      border-color: transparent;\n",
              "      border-right-color: var(--fill-color);\n",
              "      border-bottom-color: var(--fill-color);\n",
              "    }\n",
              "    90% {\n",
              "      border-color: transparent;\n",
              "      border-bottom-color: var(--fill-color);\n",
              "    }\n",
              "  }\n",
              "</style>\n",
              "\n",
              "  <script>\n",
              "    async function quickchart(key) {\n",
              "      const quickchartButtonEl =\n",
              "        document.querySelector('#' + key + ' button');\n",
              "      quickchartButtonEl.disabled = true;  // To prevent multiple clicks.\n",
              "      quickchartButtonEl.classList.add('colab-df-spinner');\n",
              "      try {\n",
              "        const charts = await google.colab.kernel.invokeFunction(\n",
              "            'suggestCharts', [key], {});\n",
              "      } catch (error) {\n",
              "        console.error('Error during call to suggestCharts:', error);\n",
              "      }\n",
              "      quickchartButtonEl.classList.remove('colab-df-spinner');\n",
              "      quickchartButtonEl.classList.add('colab-df-quickchart-complete');\n",
              "    }\n",
              "    (() => {\n",
              "      let quickchartButtonEl =\n",
              "        document.querySelector('#df-55d13844-b24d-429e-8907-87832ef66c8d button');\n",
              "      quickchartButtonEl.style.display =\n",
              "        google.colab.kernel.accessAllowed ? 'block' : 'none';\n",
              "    })();\n",
              "  </script>\n",
              "</div>\n",
              "    </div>\n",
              "  </div>\n"
            ]
          },
          "metadata": {},
          "execution_count": 320
        }
      ]
    },
    {
      "cell_type": "code",
      "source": [
        "res = females_COPD.melt(id_vars='gender',var_name='copd',value_name='Count')\n",
        "custom_palette = sns.color_palette(\"Paired\", 3)\n",
        "sns.barplot(data=res,x='gender',y='Count',hue='copd',palette=custom_palette)"
      ],
      "metadata": {
        "colab": {
          "base_uri": "https://localhost:8080/",
          "height": 466
        },
        "id": "TUTCZqWd3XiR",
        "outputId": "0d95e804-2b19-44c7-b31a-9d9ac16e0297"
      },
      "execution_count": 350,
      "outputs": [
        {
          "output_type": "execute_result",
          "data": {
            "text/plain": [
              "<Axes: xlabel='gender', ylabel='Count'>"
            ]
          },
          "metadata": {},
          "execution_count": 350
        },
        {
          "output_type": "display_data",
          "data": {
            "text/plain": [
              "<Figure size 640x480 with 1 Axes>"
            ],
            "image/png": "[encoded data removed]"
          },
          "metadata": {}
        }
      ]
    },
    {
      "cell_type": "code",
      "source": [
        "print(females_COPD.columns)\n"
      ],
      "metadata": {
        "colab": {
          "base_uri": "https://localhost:8080/"
        },
        "id": "th2Zg2CE7QAL",
        "outputId": "ed339378-58a7-4b63-c74a-31680ef6f24a"
      },
      "execution_count": 323,
      "outputs": [
        {
          "output_type": "stream",
          "name": "stdout",
          "text": [
            "Index(['gender', 1, 2, 3, 4], dtype='object', name='copd')\n"
          ]
        }
      ]
    },
    {
      "cell_type": "markdown",
      "source": [
        "Finding the null and duplicated values"
      ],
      "metadata": {
        "id": "I2jQ1wCbXpZY"
      }
    },
    {
      "cell_type": "code",
      "source": [
        "data.isna().sum()"
      ],
      "metadata": {
        "colab": {
          "base_uri": "https://localhost:8080/"
        },
        "id": "6MgtXNVRXuMT",
        "outputId": "09dfbf2e-5541-436c-840d-8a11ba1167db"
      },
      "execution_count": 351,
      "outputs": [
        {
          "output_type": "execute_result",
          "data": {
            "text/plain": [
              "AGE             0\n",
              "PackHistory     0\n",
              "MWT1Best        1\n",
              "FEV1            0\n",
              "FEV1PRED        0\n",
              "FVC             0\n",
              "FVCPRED         0\n",
              "CAT             0\n",
              "HAD             0\n",
              "SGRQ            0\n",
              "AGEquartiles    0\n",
              "copd            0\n",
              "gender          0\n",
              "smoking         0\n",
              "Diabetes        0\n",
              "muscular        0\n",
              "hypertension    0\n",
              "AtrialFib       0\n",
              "IHD             0\n",
              "dtype: int64"
            ]
          },
          "metadata": {},
          "execution_count": 351
        }
      ]
    },
    {
      "cell_type": "code",
      "source": [
        "data.fillna(data.mean(),inplace=True)"
      ],
      "metadata": {
        "id": "4b74Ah_PXyzi"
      },
      "execution_count": 352,
      "outputs": []
    },
    {
      "cell_type": "code",
      "source": [
        "data.isna().sum()"
      ],
      "metadata": {
        "colab": {
          "base_uri": "https://localhost:8080/"
        },
        "id": "ip0JHVpmgrKp",
        "outputId": "501dbdd7-bbdf-42a5-be83-f6da2bd87456"
      },
      "execution_count": 353,
      "outputs": [
        {
          "output_type": "execute_result",
          "data": {
            "text/plain": [
              "AGE             0\n",
              "PackHistory     0\n",
              "MWT1Best        0\n",
              "FEV1            0\n",
              "FEV1PRED        0\n",
              "FVC             0\n",
              "FVCPRED         0\n",
              "CAT             0\n",
              "HAD             0\n",
              "SGRQ            0\n",
              "AGEquartiles    0\n",
              "copd            0\n",
              "gender          0\n",
              "smoking         0\n",
              "Diabetes        0\n",
              "muscular        0\n",
              "hypertension    0\n",
              "AtrialFib       0\n",
              "IHD             0\n",
              "dtype: int64"
            ]
          },
          "metadata": {},
          "execution_count": 353
        }
      ]
    },
    {
      "cell_type": "code",
      "source": [
        "data.duplicated().sum()"
      ],
      "metadata": {
        "colab": {
          "base_uri": "https://localhost:8080/"
        },
        "id": "OVe8-URdXofG",
        "outputId": "5df02dc9-3639-49bb-9c49-38808fa801ac"
      },
      "execution_count": 354,
      "outputs": [
        {
          "output_type": "execute_result",
          "data": {
            "text/plain": [
              "0"
            ]
          },
          "metadata": {},
          "execution_count": 354
        }
      ]
    },
    {
      "cell_type": "code",
      "source": [
        "data.describe()"
      ],
      "metadata": {
        "colab": {
          "base_uri": "https://localhost:8080/",
          "height": 320
        },
        "id": "06dHnFvvYkLU",
        "outputId": "0851036a-db88-4224-e515-2f959377522a"
      },
      "execution_count": 355,
      "outputs": [
        {
          "output_type": "execute_result",
          "data": {
            "text/plain": [
              "             AGE  PackHistory    MWT1Best       FEV1    FEV1PRED        FVC  \\\n",
              "count  99.000000    99.000000   99.000000  99.000000   99.000000  99.000000   \n",
              "mean   70.050505    40.267677  397.755102   1.594747   57.875556   2.958788   \n",
              "std     7.899075    24.441967  106.642839   0.676439   22.028021   0.983854   \n",
              "min    44.000000     1.000000  120.000000   0.450000    3.290000   1.140000   \n",
              "25%    65.500000    23.500000  302.500000   1.095000   42.000000   2.250000   \n",
              "50%    71.000000    36.000000  419.000000   1.540000   60.000000   2.770000   \n",
              "75%    75.000000    54.000000  463.500000   1.925000   75.000000   3.630000   \n",
              "max    88.000000   109.000000  699.000000   3.180000  102.000000   5.370000   \n",
              "\n",
              "          FVCPRED        CAT        HAD       SGRQ  AGEquartiles       copd  \\\n",
              "count   99.000000  99.000000  99.000000  99.000000     99.000000  99.000000   \n",
              "mean    86.161616  17.575758  10.777778  40.606364      2.474747   2.222222   \n",
              "std     21.753586   7.881897   7.358953  18.007807      1.100496   0.875466   \n",
              "min     27.000000   3.000000   0.000000   8.120000      1.000000   1.000000   \n",
              "25%     71.000000  12.000000   6.000000  28.410000      1.500000   2.000000   \n",
              "50%     84.000000  18.000000  10.000000  38.430000      3.000000   2.000000   \n",
              "75%    102.500000  23.000000  15.000000  55.395000      3.000000   3.000000   \n",
              "max    132.000000  32.000000  30.000000  77.440000      4.000000   4.000000   \n",
              "\n",
              "          gender    smoking   Diabetes   muscular  hypertension  AtrialFib  \\\n",
              "count  99.000000  99.000000  99.000000  99.000000     99.000000  99.000000   \n",
              "mean    0.646465   1.838384   0.212121   0.181818      0.111111   0.202020   \n",
              "std     0.480500   0.369972   0.410891   0.387657      0.315869   0.403551   \n",
              "min     0.000000   1.000000   0.000000   0.000000      0.000000   0.000000   \n",
              "25%     0.000000   2.000000   0.000000   0.000000      0.000000   0.000000   \n",
              "50%     1.000000   2.000000   0.000000   0.000000      0.000000   0.000000   \n",
              "75%     1.000000   2.000000   0.000000   0.000000      0.000000   0.000000   \n",
              "max     1.000000   2.000000   1.000000   1.000000      1.000000   1.000000   \n",
              "\n",
              "             IHD  \n",
              "count  99.000000  \n",
              "mean    0.090909  \n",
              "std     0.288943  \n",
              "min     0.000000  \n",
              "25%     0.000000  \n",
              "50%     0.000000  \n",
              "75%     0.000000  \n",
              "max     1.000000  "
            ],
            "text/html": [
              "\n",
              "  <div id=\"df-0f15b5ab-58b9-4ef1-9b66-2fb0ec5b8b10\" class=\"colab-df-container\">\n",
              "    <div>\n",
              "<style scoped>\n",
              "    .dataframe tbody tr th:only-of-type {\n",
              "        vertical-align: middle;\n",
              "    }\n",
              "\n",
              "    .dataframe tbody tr th {\n",
              "        vertical-align: top;\n",
              "    }\n",
              "\n",
              "    .dataframe thead th {\n",
              "        text-align: right;\n",
              "    }\n",
              "</style>\n",
              "<table border=\"1\" class=\"dataframe\">\n",
              "  <thead>\n",
              "    <tr style=\"text-align: right;\">\n",
              "      <th></th>\n",
              "      <th>AGE</th>\n",
              "      <th>PackHistory</th>\n",
              "      <th>MWT1Best</th>\n",
              "      <th>FEV1</th>\n",
              "      <th>FEV1PRED</th>\n",
              "      <th>FVC</th>\n",
              "      <th>FVCPRED</th>\n",
              "      <th>CAT</th>\n",
              "      <th>HAD</th>\n",
              "      <th>SGRQ</th>\n",
              "      <th>AGEquartiles</th>\n",
              "      <th>copd</th>\n",
              "      <th>gender</th>\n",
              "      <th>smoking</th>\n",
              "      <th>Diabetes</th>\n",
              "      <th>muscular</th>\n",
              "      <th>hypertension</th>\n",
              "      <th>AtrialFib</th>\n",
              "      <th>IHD</th>\n",
              "    </tr>\n",
              "  </thead>\n",
              "  <tbody>\n",
              "    <tr>\n",
              "      <th>count</th>\n",
              "      <td>99.000000</td>\n",
              "      <td>99.000000</td>\n",
              "      <td>99.000000</td>\n",
              "      <td>99.000000</td>\n",
              "      <td>99.000000</td>\n",
              "      <td>99.000000</td>\n",
              "      <td>99.000000</td>\n",
              "      <td>99.000000</td>\n",
              "      <td>99.000000</td>\n",
              "      <td>99.000000</td>\n",
              "      <td>99.000000</td>\n",
              "      <td>99.000000</td>\n",
              "      <td>99.000000</td>\n",
              "      <td>99.000000</td>\n",
              "      <td>99.000000</td>\n",
              "      <td>99.000000</td>\n",
              "      <td>99.000000</td>\n",
              "      <td>99.000000</td>\n",
              "      <td>99.000000</td>\n",
              "    </tr>\n",
              "    <tr>\n",
              "      <th>mean</th>\n",
              "      <td>70.050505</td>\n",
              "      <td>40.267677</td>\n",
              "      <td>397.755102</td>\n",
              "      <td>1.594747</td>\n",
              "      <td>57.875556</td>\n",
              "      <td>2.958788</td>\n",
              "      <td>86.161616</td>\n",
              "      <td>17.575758</td>\n",
              "      <td>10.777778</td>\n",
              "      <td>40.606364</td>\n",
              "      <td>2.474747</td>\n",
              "      <td>2.222222</td>\n",
              "      <td>0.646465</td>\n",
              "      <td>1.838384</td>\n",
              "      <td>0.212121</td>\n",
              "      <td>0.181818</td>\n",
              "      <td>0.111111</td>\n",
              "      <td>0.202020</td>\n",
              "      <td>0.090909</td>\n",
              "    </tr>\n",
              "    <tr>\n",
              "      <th>std</th>\n",
              "      <td>7.899075</td>\n",
              "      <td>24.441967</td>\n",
              "      <td>106.642839</td>\n",
              "      <td>0.676439</td>\n",
              "      <td>22.028021</td>\n",
              "      <td>0.983854</td>\n",
              "      <td>21.753586</td>\n",
              "      <td>7.881897</td>\n",
              "      <td>7.358953</td>\n",
              "      <td>18.007807</td>\n",
              "      <td>1.100496</td>\n",
              "      <td>0.875466</td>\n",
              "      <td>0.480500</td>\n",
              "      <td>0.369972</td>\n",
              "      <td>0.410891</td>\n",
              "      <td>0.387657</td>\n",
              "      <td>0.315869</td>\n",
              "      <td>0.403551</td>\n",
              "      <td>0.288943</td>\n",
              "    </tr>\n",
              "    <tr>\n",
              "      <th>min</th>\n",
              "      <td>44.000000</td>\n",
              "      <td>1.000000</td>\n",
              "      <td>120.000000</td>\n",
              "      <td>0.450000</td>\n",
              "      <td>3.290000</td>\n",
              "      <td>1.140000</td>\n",
              "      <td>27.000000</td>\n",
              "      <td>3.000000</td>\n",
              "      <td>0.000000</td>\n",
              "      <td>8.120000</td>\n",
              "      <td>1.000000</td>\n",
              "      <td>1.000000</td>\n",
              "      <td>0.000000</td>\n",
              "      <td>1.000000</td>\n",
              "      <td>0.000000</td>\n",
              "      <td>0.000000</td>\n",
              "      <td>0.000000</td>\n",
              "      <td>0.000000</td>\n",
              "      <td>0.000000</td>\n",
              "    </tr>\n",
              "    <tr>\n",
              "      <th>25%</th>\n",
              "      <td>65.500000</td>\n",
              "      <td>23.500000</td>\n",
              "      <td>302.500000</td>\n",
              "      <td>1.095000</td>\n",
              "      <td>42.000000</td>\n",
              "      <td>2.250000</td>\n",
              "      <td>71.000000</td>\n",
              "      <td>12.000000</td>\n",
              "      <td>6.000000</td>\n",
              "      <td>28.410000</td>\n",
              "      <td>1.500000</td>\n",
              "      <td>2.000000</td>\n",
              "      <td>0.000000</td>\n",
              "      <td>2.000000</td>\n",
              "      <td>0.000000</td>\n",
              "      <td>0.000000</td>\n",
              "      <td>0.000000</td>\n",
              "      <td>0.000000</td>\n",
              "      <td>0.000000</td>\n",
              "    </tr>\n",
              "    <tr>\n",
              "      <th>50%</th>\n",
              "      <td>71.000000</td>\n",
              "      <td>36.000000</td>\n",
              "      <td>419.000000</td>\n",
              "      <td>1.540000</td>\n",
              "      <td>60.000000</td>\n",
              "      <td>2.770000</td>\n",
              "      <td>84.000000</td>\n",
              "      <td>18.000000</td>\n",
              "      <td>10.000000</td>\n",
              "      <td>38.430000</td>\n",
              "      <td>3.000000</td>\n",
              "      <td>2.000000</td>\n",
              "      <td>1.000000</td>\n",
              "      <td>2.000000</td>\n",
              "      <td>0.000000</td>\n",
              "      <td>0.000000</td>\n",
              "      <td>0.000000</td>\n",
              "      <td>0.000000</td>\n",
              "      <td>0.000000</td>\n",
              "    </tr>\n",
              "    <tr>\n",
              "      <th>75%</th>\n",
              "      <td>75.000000</td>\n",
              "      <td>54.000000</td>\n",
              "      <td>463.500000</td>\n",
              "      <td>1.925000</td>\n",
              "      <td>75.000000</td>\n",
              "      <td>3.630000</td>\n",
              "      <td>102.500000</td>\n",
              "      <td>23.000000</td>\n",
              "      <td>15.000000</td>\n",
              "      <td>55.395000</td>\n",
              "      <td>3.000000</td>\n",
              "      <td>3.000000</td>\n",
              "      <td>1.000000</td>\n",
              "      <td>2.000000</td>\n",
              "      <td>0.000000</td>\n",
              "      <td>0.000000</td>\n",
              "      <td>0.000000</td>\n",
              "      <td>0.000000</td>\n",
              "      <td>0.000000</td>\n",
              "    </tr>\n",
              "    <tr>\n",
              "      <th>max</th>\n",
              "      <td>88.000000</td>\n",
              "      <td>109.000000</td>\n",
              "      <td>699.000000</td>\n",
              "      <td>3.180000</td>\n",
              "      <td>102.000000</td>\n",
              "      <td>5.370000</td>\n",
              "      <td>132.000000</td>\n",
              "      <td>32.000000</td>\n",
              "      <td>30.000000</td>\n",
              "      <td>77.440000</td>\n",
              "      <td>4.000000</td>\n",
              "      <td>4.000000</td>\n",
              "      <td>1.000000</td>\n",
              "      <td>2.000000</td>\n",
              "      <td>1.000000</td>\n",
              "      <td>1.000000</td>\n",
              "      <td>1.000000</td>\n",
              "      <td>1.000000</td>\n",
              "      <td>1.000000</td>\n",
              "    </tr>\n",
              "  </tbody>\n",
              "</table>\n",
              "</div>\n",
              "    <div class=\"colab-df-buttons\">\n",
              "\n",
              "  <div class=\"colab-df-container\">\n",
              "    <button class=\"colab-df-convert\" onclick=\"convertToInteractive('df-0f15b5ab-58b9-4ef1-9b66-2fb0ec5b8b10')\"\n",
              "            title=\"Convert this dataframe to an interactive table.\"\n",
              "            style=\"display:none;\">\n",
              "\n",
              "  <svg xmlns=\"http://www.w3.org/2000/svg\" height=\"24px\" viewBox=\"0 -960 960 960\">\n",
              "    <path d=\"M120-120v-720h720v720H120Zm60-500h600v-160H180v160Zm220 220h160v-160H400v160Zm0 220h160v-160H400v160ZM180-400h160v-160H180v160Zm440 0h160v-160H620v160ZM180-180h160v-160H180v160Zm440 0h160v-160H620v160Z\"/>\n",
              "  </svg>\n",
              "    </button>\n",
              "\n",
              "  <style>\n",
              "    .colab-df-container {\n",
              "      display:flex;\n",
              "      gap: 12px;\n",
              "    }\n",
              "\n",
              "    .colab-df-convert {\n",
              "      background-color: #E8F0FE;\n",
              "      border: none;\n",
              "      border-radius: 50%;\n",
              "      cursor: pointer;\n",
              "      display: none;\n",
              "      fill: #1967D2;\n",
              "      height: 32px;\n",
              "      padding: 0 0 0 0;\n",
              "      width: 32px;\n",
              "    }\n",
              "\n",
              "    .colab-df-convert:hover {\n",
              "      background-color: #E2EBFA;\n",
              "      box-shadow: 0px 1px 2px rgba(60, 64, 67, 0.3), 0px 1px 3px 1px rgba(60, 64, 67, 0.15);\n",
              "      fill: #174EA6;\n",
              "    }\n",
              "\n",
              "    .colab-df-buttons div {\n",
              "      margin-bottom: 4px;\n",
              "    }\n",
              "\n",
              "    [theme=dark] .colab-df-convert {\n",
              "      background-color: #3B4455;\n",
              "      fill: #D2E3FC;\n",
              "    }\n",
              "\n",
              "    [theme=dark] .colab-df-convert:hover {\n",
              "      background-color: #434B5C;\n",
              "      box-shadow: 0px 1px 3px 1px rgba(0, 0, 0, 0.15);\n",
              "      filter: drop-shadow(0px 1px 2px rgba(0, 0, 0, 0.3));\n",
              "      fill: #FFFFFF;\n",
              "    }\n",
              "  </style>\n",
              "\n",
              "    <script>\n",
              "      const buttonEl =\n",
              "        document.querySelector('#df-0f15b5ab-58b9-4ef1-9b66-2fb0ec5b8b10 button.colab-df-convert');\n",
              "      buttonEl.style.display =\n",
              "        google.colab.kernel.accessAllowed ? 'block' : 'none';\n",
              "\n",
              "      async function convertToInteractive(key) {\n",
              "        const element = document.querySelector('#df-0f15b5ab-58b9-4ef1-9b66-2fb0ec5b8b10');\n",
              "        const dataTable =\n",
              "          await google.colab.kernel.invokeFunction('convertToInteractive',\n",
              "                                                    [key], {});\n",
              "        if (!dataTable) return;\n",
              "\n",
              "        const docLinkHtml = 'Like what you see? Visit the ' +\n",
              "          '<a target=\"_blank\" href=https://colab.research.google.com/notebooks/data_table.ipynb>data table notebook</a>'\n",
              "          + ' to learn more about interactive tables.';\n",
              "        element.innerHTML = '';\n",
              "        dataTable['output_type'] = 'display_data';\n",
              "        await google.colab.output.renderOutput(dataTable, element);\n",
              "        const docLink = document.createElement('div');\n",
              "        docLink.innerHTML = docLinkHtml;\n",
              "        element.appendChild(docLink);\n",
              "      }\n",
              "    </script>\n",
              "  </div>\n",
              "\n",
              "\n",
              "<div id=\"df-b0204381-c8e4-4a40-a384-928d0a52e879\">\n",
              "  <button class=\"colab-df-quickchart\" onclick=\"quickchart('df-b0204381-c8e4-4a40-a384-928d0a52e879')\"\n",
              "            title=\"Suggest charts\"\n",
              "            style=\"display:none;\">\n",
              "\n",
              "<svg xmlns=\"http://www.w3.org/2000/svg\" height=\"24px\"viewBox=\"0 0 24 24\"\n",
              "     width=\"24px\">\n",
              "    <g>\n",
              "        <path d=\"M19 3H5c-1.1 0-2 .9-2 2v14c0 1.1.9 2 2 2h14c1.1 0 2-.9 2-2V5c0-1.1-.9-2-2-2zM9 17H7v-7h2v7zm4 0h-2V7h2v10zm4 0h-2v-4h2v4z\"/>\n",
              "    </g>\n",
              "</svg>\n",
              "  </button>\n",
              "\n",
              "<style>\n",
              "  .colab-df-quickchart {\n",
              "      --bg-color: #E8F0FE;\n",
              "      --fill-color: #1967D2;\n",
              "      --hover-bg-color: #E2EBFA;\n",
              "      --hover-fill-color: #174EA6;\n",
              "      --disabled-fill-color: #AAA;\n",
              "      --disabled-bg-color: #DDD;\n",
              "  }\n",
              "\n",
              "  [theme=dark] .colab-df-quickchart {\n",
              "      --bg-color: #3B4455;\n",
              "      --fill-color: #D2E3FC;\n",
              "      --hover-bg-color: #434B5C;\n",
              "      --hover-fill-color: #FFFFFF;\n",
              "      --disabled-bg-color: #3B4455;\n",
              "      --disabled-fill-color: #666;\n",
              "  }\n",
              "\n",
              "  .colab-df-quickchart {\n",
              "    background-color: var(--bg-color);\n",
              "    border: none;\n",
              "    border-radius: 50%;\n",
              "    cursor: pointer;\n",
              "    display: none;\n",
              "    fill: var(--fill-color);\n",
              "    height: 32px;\n",
              "    padding: 0;\n",
              "    width: 32px;\n",
              "  }\n",
              "\n",
              "  .colab-df-quickchart:hover {\n",
              "    background-color: var(--hover-bg-color);\n",
              "    box-shadow: 0 1px 2px rgba(60, 64, 67, 0.3), 0 1px 3px 1px rgba(60, 64, 67, 0.15);\n",
              "    fill: var(--button-hover-fill-color);\n",
              "  }\n",
              "\n",
              "  .colab-df-quickchart-complete:disabled,\n",
              "  .colab-df-quickchart-complete:disabled:hover {\n",
              "    background-color: var(--disabled-bg-color);\n",
              "    fill: var(--disabled-fill-color);\n",
              "    box-shadow: none;\n",
              "  }\n",
              "\n",
              "  .colab-df-spinner {\n",
              "    border: 2px solid var(--fill-color);\n",
              "    border-color: transparent;\n",
              "    border-bottom-color: var(--fill-color);\n",
              "    animation:\n",
              "      spin 1s steps(1) infinite;\n",
              "  }\n",
              "\n",
              "  @keyframes spin {\n",
              "    0% {\n",
              "      border-color: transparent;\n",
              "      border-bottom-color: var(--fill-color);\n",
              "      border-left-color: var(--fill-color);\n",
              "    }\n",
              "    20% {\n",
              "      border-color: transparent;\n",
              "      border-left-color: var(--fill-color);\n",
              "      border-top-color: var(--fill-color);\n",
              "    }\n",
              "    30% {\n",
              "      border-color: transparent;\n",
              "      border-left-color: var(--fill-color);\n",
              "      border-top-color: var(--fill-color);\n",
              "      border-right-color: var(--fill-color);\n",
              "    }\n",
              "    40% {\n",
              "      border-color: transparent;\n",
              "      border-right-color: var(--fill-color);\n",
              "      border-top-color: var(--fill-color);\n",
              "    }\n",
              "    60% {\n",
              "      border-color: transparent;\n",
              "      border-right-color: var(--fill-color);\n",
              "    }\n",
              "    80% {\n",
              "      border-color: transparent;\n",
              "      border-right-color: var(--fill-color);\n",
              "      border-bottom-color: var(--fill-color);\n",
              "    }\n",
              "    90% {\n",
              "      border-color: transparent;\n",
              "      border-bottom-color: var(--fill-color);\n",
              "    }\n",
              "  }\n",
              "</style>\n",
              "\n",
              "  <script>\n",
              "    async function quickchart(key) {\n",
              "      const quickchartButtonEl =\n",
              "        document.querySelector('#' + key + ' button');\n",
              "      quickchartButtonEl.disabled = true;  // To prevent multiple clicks.\n",
              "      quickchartButtonEl.classList.add('colab-df-spinner');\n",
              "      try {\n",
              "        const charts = await google.colab.kernel.invokeFunction(\n",
              "            'suggestCharts', [key], {});\n",
              "      } catch (error) {\n",
              "        console.error('Error during call to suggestCharts:', error);\n",
              "      }\n",
              "      quickchartButtonEl.classList.remove('colab-df-spinner');\n",
              "      quickchartButtonEl.classList.add('colab-df-quickchart-complete');\n",
              "    }\n",
              "    (() => {\n",
              "      let quickchartButtonEl =\n",
              "        document.querySelector('#df-b0204381-c8e4-4a40-a384-928d0a52e879 button');\n",
              "      quickchartButtonEl.style.display =\n",
              "        google.colab.kernel.accessAllowed ? 'block' : 'none';\n",
              "    })();\n",
              "  </script>\n",
              "</div>\n",
              "    </div>\n",
              "  </div>\n"
            ]
          },
          "metadata": {},
          "execution_count": 355
        }
      ]
    },
    {
      "cell_type": "markdown",
      "source": [
        "Prediction of COPD-Severity"
      ],
      "metadata": {
        "id": "9JhEVflXVmgn"
      }
    },
    {
      "cell_type": "code",
      "source": [
        "#splitting the data\n",
        "X=data.loc[:,data.columns!='copd']\n",
        "y=data['copd']\n",
        "X_train,X_test,y_train,y_test = train_test_split(X,y,test_size=0.2,random_state=42)\n",
        "X_train.shape,X_test.shape,y_train.shape,y_test.shape"
      ],
      "metadata": {
        "colab": {
          "base_uri": "https://localhost:8080/"
        },
        "id": "2VyHusz4VryC",
        "outputId": "e2e96ae1-1376-4778-ca2f-c0598738eb10"
      },
      "execution_count": 394,
      "outputs": [
        {
          "output_type": "execute_result",
          "data": {
            "text/plain": [
              "((79, 18), (20, 18), (79,), (20,))"
            ]
          },
          "metadata": {},
          "execution_count": 394
        }
      ]
    },
    {
      "cell_type": "code",
      "source": [
        "X_train_scaled = scaler.fit_transform(X_train)\n",
        "X_test_scaled = scaler.transform(X_test)"
      ],
      "metadata": {
        "id": "wIU8C7wlYycX"
      },
      "execution_count": 395,
      "outputs": []
    },
    {
      "cell_type": "code",
      "source": [
        "rfc_model = rfc.fit(X_train,y_train)\n",
        "svc_model = svc.fit(X_train,y_train)"
      ],
      "metadata": {
        "id": "PjL8cguRZ_O0"
      },
      "execution_count": 366,
      "outputs": []
    },
    {
      "cell_type": "code",
      "source": [
        "rfc_pred = rfc_model.predict(X_test)\n",
        "svc_pred = svc_model.predict(X_test)"
      ],
      "metadata": {
        "id": "7Q0TiA0yaMPk"
      },
      "execution_count": 367,
      "outputs": []
    },
    {
      "cell_type": "code",
      "source": [
        "print(classification_report(rfc_pred,y_test))\n",
        "print(classification_report(svc_pred,y_test))"
      ],
      "metadata": {
        "colab": {
          "base_uri": "https://localhost:8080/"
        },
        "id": "brLkBC-raiWg",
        "outputId": "512f6d09-8ce9-49c6-8759-4e8a0bbe3484"
      },
      "execution_count": 368,
      "outputs": [
        {
          "output_type": "stream",
          "name": "stdout",
          "text": [
            "              precision    recall  f1-score   support\n",
            "\n",
            "           1       0.67      1.00      0.80         2\n",
            "           2       1.00      0.78      0.88         9\n",
            "           3       0.88      0.78      0.82         9\n",
            "           4       0.00      0.00      0.00         0\n",
            "\n",
            "    accuracy                           0.80        20\n",
            "   macro avg       0.64      0.64      0.62        20\n",
            "weighted avg       0.91      0.80      0.84        20\n",
            "\n",
            "              precision    recall  f1-score   support\n",
            "\n",
            "           1       1.00      0.75      0.86         4\n",
            "           2       0.71      1.00      0.83         5\n",
            "           3       1.00      1.00      1.00         8\n",
            "           4       1.00      0.67      0.80         3\n",
            "\n",
            "    accuracy                           0.90        20\n",
            "   macro avg       0.93      0.85      0.87        20\n",
            "weighted avg       0.93      0.90      0.90        20\n",
            "\n"
          ]
        }
      ]
    },
    {
      "cell_type": "code",
      "source": [
        "print(f'Accuracy of Random Forest Classifier  : {accuracy_score(rfc_pred,y_test)*100}%')\n",
        "print(f'Accuracy of Random Forest Classifier  : {accuracy_score(svc_pred,y_test)*100}%')"
      ],
      "metadata": {
        "colab": {
          "base_uri": "https://localhost:8080/"
        },
        "id": "DAjGUBH69aZw",
        "outputId": "913961f4-913f-459f-f290-29946966206b"
      },
      "execution_count": 369,
      "outputs": [
        {
          "output_type": "stream",
          "name": "stdout",
          "text": [
            "Accuracy of Random Forest Classifier  : 80.0%\n",
            "Accuracy of Random Forest Classifier  : 90.0%\n"
          ]
        }
      ]
    },
    {
      "cell_type": "markdown",
      "source": [
        "Building an ANN"
      ],
      "metadata": {
        "id": "0kw5ixFZbV7S"
      }
    },
    {
      "cell_type": "code",
      "source": [
        "model = models.Sequential([\n",
        "    layers.Dense(64, activation='relu', input_shape=(18,)),\n",
        "    layers.Dense(32, activation='sigmoid'),\n",
        "    layers.Dense(16, activation='relu'),\n",
        "    layers.Dense(8, activation='relu'),\n",
        "    layers.Dense(4, activation='softmax')\n",
        "])"
      ],
      "metadata": {
        "id": "NUvTBp8SbYHS"
      },
      "execution_count": 410,
      "outputs": []
    },
    {
      "cell_type": "code",
      "source": [
        "model.compile(optimizer='adam',loss='sparse_categorical_crossentropy',metrics=['accuracy'])"
      ],
      "metadata": {
        "id": "cQaQ5Y3Bb8T4"
      },
      "execution_count": 411,
      "outputs": []
    },
    {
      "cell_type": "code",
      "source": [
        "y_train-=1"
      ],
      "metadata": {
        "id": "0Vkas_RO9rqN"
      },
      "execution_count": 399,
      "outputs": []
    },
    {
      "cell_type": "code",
      "source": [
        "y_test-=1"
      ],
      "metadata": {
        "id": "6Qk2zMGG950O"
      },
      "execution_count": 400,
      "outputs": []
    },
    {
      "cell_type": "code",
      "source": [
        "history = model.fit(X_train_scaled, y_train,epochs=100,batch_size=32)"
      ],
      "metadata": {
        "id": "qXTE2DZVcI1p",
        "colab": {
          "base_uri": "https://localhost:8080/"
        },
        "outputId": "b79e4ae9-de25-4654-e3c8-740407552fd7"
      },
      "execution_count": 412,
      "outputs": [
        {
          "output_type": "stream",
          "name": "stdout",
          "text": [
            "Epoch 1/100\n",
            "3/3 [==============================] - 1s 4ms/step - loss: 1.4891 - accuracy: 0.1013\n",
            "Epoch 2/100\n",
            "3/3 [==============================] - 0s 3ms/step - loss: 1.4483 - accuracy: 0.2025\n",
            "Epoch 3/100\n",
            "3/3 [==============================] - 0s 3ms/step - loss: 1.4131 - accuracy: 0.3165\n",
            "Epoch 4/100\n",
            "3/3 [==============================] - 0s 3ms/step - loss: 1.3896 - accuracy: 0.3418\n",
            "Epoch 5/100\n",
            "3/3 [==============================] - 0s 4ms/step - loss: 1.3721 - accuracy: 0.3418\n",
            "Epoch 6/100\n",
            "3/3 [==============================] - 0s 4ms/step - loss: 1.3603 - accuracy: 0.3418\n",
            "Epoch 7/100\n",
            "3/3 [==============================] - 0s 4ms/step - loss: 1.3513 - accuracy: 0.3418\n",
            "Epoch 8/100\n",
            "3/3 [==============================] - 0s 3ms/step - loss: 1.3423 - accuracy: 0.3418\n",
            "Epoch 9/100\n",
            "3/3 [==============================] - 0s 3ms/step - loss: 1.3350 - accuracy: 0.3418\n",
            "Epoch 10/100\n",
            "3/3 [==============================] - 0s 4ms/step - loss: 1.3282 - accuracy: 0.3418\n",
            "Epoch 11/100\n",
            "3/3 [==============================] - 0s 3ms/step - loss: 1.3202 - accuracy: 0.3418\n",
            "Epoch 12/100\n",
            "3/3 [==============================] - 0s 3ms/step - loss: 1.3122 - accuracy: 0.3418\n",
            "Epoch 13/100\n",
            "3/3 [==============================] - 0s 3ms/step - loss: 1.3041 - accuracy: 0.3544\n",
            "Epoch 14/100\n",
            "3/3 [==============================] - 0s 3ms/step - loss: 1.2956 - accuracy: 0.3671\n",
            "Epoch 15/100\n",
            "3/3 [==============================] - 0s 3ms/step - loss: 1.2863 - accuracy: 0.3797\n",
            "Epoch 16/100\n",
            "3/3 [==============================] - 0s 3ms/step - loss: 1.2767 - accuracy: 0.3797\n",
            "Epoch 17/100\n",
            "3/3 [==============================] - 0s 3ms/step - loss: 1.2676 - accuracy: 0.4051\n",
            "Epoch 18/100\n",
            "3/3 [==============================] - 0s 3ms/step - loss: 1.2569 - accuracy: 0.4177\n",
            "Epoch 19/100\n",
            "3/3 [==============================] - 0s 3ms/step - loss: 1.2466 - accuracy: 0.4304\n",
            "Epoch 20/100\n",
            "3/3 [==============================] - 0s 3ms/step - loss: 1.2341 - accuracy: 0.4557\n",
            "Epoch 21/100\n",
            "3/3 [==============================] - 0s 4ms/step - loss: 1.2217 - accuracy: 0.4684\n",
            "Epoch 22/100\n",
            "3/3 [==============================] - 0s 3ms/step - loss: 1.2084 - accuracy: 0.4937\n",
            "Epoch 23/100\n",
            "3/3 [==============================] - 0s 3ms/step - loss: 1.1944 - accuracy: 0.4937\n",
            "Epoch 24/100\n",
            "3/3 [==============================] - 0s 3ms/step - loss: 1.1790 - accuracy: 0.5443\n",
            "Epoch 25/100\n",
            "3/3 [==============================] - 0s 3ms/step - loss: 1.1628 - accuracy: 0.6456\n",
            "Epoch 26/100\n",
            "3/3 [==============================] - 0s 3ms/step - loss: 1.1472 - accuracy: 0.6582\n",
            "Epoch 27/100\n",
            "3/3 [==============================] - 0s 3ms/step - loss: 1.1306 - accuracy: 0.6835\n",
            "Epoch 28/100\n",
            "3/3 [==============================] - 0s 3ms/step - loss: 1.1119 - accuracy: 0.6835\n",
            "Epoch 29/100\n",
            "3/3 [==============================] - 0s 3ms/step - loss: 1.0934 - accuracy: 0.6962\n",
            "Epoch 30/100\n",
            "3/3 [==============================] - 0s 4ms/step - loss: 1.0755 - accuracy: 0.7215\n",
            "Epoch 31/100\n",
            "3/3 [==============================] - 0s 3ms/step - loss: 1.0556 - accuracy: 0.7468\n",
            "Epoch 32/100\n",
            "3/3 [==============================] - 0s 4ms/step - loss: 1.0361 - accuracy: 0.7595\n",
            "Epoch 33/100\n",
            "3/3 [==============================] - 0s 3ms/step - loss: 1.0145 - accuracy: 0.7722\n",
            "Epoch 34/100\n",
            "3/3 [==============================] - 0s 4ms/step - loss: 0.9949 - accuracy: 0.7722\n",
            "Epoch 35/100\n",
            "3/3 [==============================] - 0s 4ms/step - loss: 0.9752 - accuracy: 0.7975\n",
            "Epoch 36/100\n",
            "3/3 [==============================] - 0s 4ms/step - loss: 0.9539 - accuracy: 0.7975\n",
            "Epoch 37/100\n",
            "3/3 [==============================] - 0s 5ms/step - loss: 0.9325 - accuracy: 0.8101\n",
            "Epoch 38/100\n",
            "3/3 [==============================] - 0s 3ms/step - loss: 0.9107 - accuracy: 0.8101\n",
            "Epoch 39/100\n",
            "3/3 [==============================] - 0s 3ms/step - loss: 0.8894 - accuracy: 0.7975\n",
            "Epoch 40/100\n",
            "3/3 [==============================] - 0s 3ms/step - loss: 0.8683 - accuracy: 0.8228\n",
            "Epoch 41/100\n",
            "3/3 [==============================] - 0s 4ms/step - loss: 0.8470 - accuracy: 0.8228\n",
            "Epoch 42/100\n",
            "3/3 [==============================] - 0s 3ms/step - loss: 0.8254 - accuracy: 0.8228\n",
            "Epoch 43/100\n",
            "3/3 [==============================] - 0s 3ms/step - loss: 0.8040 - accuracy: 0.8228\n",
            "Epoch 44/100\n",
            "3/3 [==============================] - 0s 3ms/step - loss: 0.7835 - accuracy: 0.8228\n",
            "Epoch 45/100\n",
            "3/3 [==============================] - 0s 3ms/step - loss: 0.7628 - accuracy: 0.8228\n",
            "Epoch 46/100\n",
            "3/3 [==============================] - 0s 4ms/step - loss: 0.7422 - accuracy: 0.8228\n",
            "Epoch 47/100\n",
            "3/3 [==============================] - 0s 4ms/step - loss: 0.7234 - accuracy: 0.8228\n",
            "Epoch 48/100\n",
            "3/3 [==============================] - 0s 4ms/step - loss: 0.7021 - accuracy: 0.8228\n",
            "Epoch 49/100\n",
            "3/3 [==============================] - 0s 4ms/step - loss: 0.6817 - accuracy: 0.8228\n",
            "Epoch 50/100\n",
            "3/3 [==============================] - 0s 4ms/step - loss: 0.6624 - accuracy: 0.8354\n",
            "Epoch 51/100\n",
            "3/3 [==============================] - 0s 3ms/step - loss: 0.6440 - accuracy: 0.8354\n",
            "Epoch 52/100\n",
            "3/3 [==============================] - 0s 4ms/step - loss: 0.6257 - accuracy: 0.8481\n",
            "Epoch 53/100\n",
            "3/3 [==============================] - 0s 4ms/step - loss: 0.6078 - accuracy: 0.8481\n",
            "Epoch 54/100\n",
            "3/3 [==============================] - 0s 4ms/step - loss: 0.5892 - accuracy: 0.8481\n",
            "Epoch 55/100\n",
            "3/3 [==============================] - 0s 4ms/step - loss: 0.5747 - accuracy: 0.8608\n",
            "Epoch 56/100\n",
            "3/3 [==============================] - 0s 5ms/step - loss: 0.5574 - accuracy: 0.8734\n",
            "Epoch 57/100\n",
            "3/3 [==============================] - 0s 3ms/step - loss: 0.5402 - accuracy: 0.8861\n",
            "Epoch 58/100\n",
            "3/3 [==============================] - 0s 3ms/step - loss: 0.5250 - accuracy: 0.8734\n",
            "Epoch 59/100\n",
            "3/3 [==============================] - 0s 4ms/step - loss: 0.5105 - accuracy: 0.8734\n",
            "Epoch 60/100\n",
            "3/3 [==============================] - 0s 3ms/step - loss: 0.4962 - accuracy: 0.8734\n",
            "Epoch 61/100\n",
            "3/3 [==============================] - 0s 3ms/step - loss: 0.4818 - accuracy: 0.8861\n",
            "Epoch 62/100\n",
            "3/3 [==============================] - 0s 3ms/step - loss: 0.4688 - accuracy: 0.8987\n",
            "Epoch 63/100\n",
            "3/3 [==============================] - 0s 3ms/step - loss: 0.4554 - accuracy: 0.9114\n",
            "Epoch 64/100\n",
            "3/3 [==============================] - 0s 3ms/step - loss: 0.4433 - accuracy: 0.9114\n",
            "Epoch 65/100\n",
            "3/3 [==============================] - 0s 4ms/step - loss: 0.4308 - accuracy: 0.9114\n",
            "Epoch 66/100\n",
            "3/3 [==============================] - 0s 4ms/step - loss: 0.4204 - accuracy: 0.8987\n",
            "Epoch 67/100\n",
            "3/3 [==============================] - 0s 4ms/step - loss: 0.4094 - accuracy: 0.8987\n",
            "Epoch 68/100\n",
            "3/3 [==============================] - 0s 4ms/step - loss: 0.3997 - accuracy: 0.9114\n",
            "Epoch 69/100\n",
            "3/3 [==============================] - 0s 5ms/step - loss: 0.3887 - accuracy: 0.9114\n",
            "Epoch 70/100\n",
            "3/3 [==============================] - 0s 4ms/step - loss: 0.3788 - accuracy: 0.9114\n",
            "Epoch 71/100\n",
            "3/3 [==============================] - 0s 4ms/step - loss: 0.3697 - accuracy: 0.9114\n",
            "Epoch 72/100\n",
            "3/3 [==============================] - 0s 3ms/step - loss: 0.3604 - accuracy: 0.9114\n",
            "Epoch 73/100\n",
            "3/3 [==============================] - 0s 3ms/step - loss: 0.3520 - accuracy: 0.9114\n",
            "Epoch 74/100\n",
            "3/3 [==============================] - 0s 4ms/step - loss: 0.3437 - accuracy: 0.9114\n",
            "Epoch 75/100\n",
            "3/3 [==============================] - 0s 4ms/step - loss: 0.3358 - accuracy: 0.9241\n",
            "Epoch 76/100\n",
            "3/3 [==============================] - 0s 4ms/step - loss: 0.3284 - accuracy: 0.9241\n",
            "Epoch 77/100\n",
            "3/3 [==============================] - 0s 3ms/step - loss: 0.3211 - accuracy: 0.9241\n",
            "Epoch 78/100\n",
            "3/3 [==============================] - 0s 4ms/step - loss: 0.3147 - accuracy: 0.9114\n",
            "Epoch 79/100\n",
            "3/3 [==============================] - 0s 3ms/step - loss: 0.3076 - accuracy: 0.9241\n",
            "Epoch 80/100\n",
            "3/3 [==============================] - 0s 4ms/step - loss: 0.3015 - accuracy: 0.9241\n",
            "Epoch 81/100\n",
            "3/3 [==============================] - 0s 4ms/step - loss: 0.2954 - accuracy: 0.9241\n",
            "Epoch 82/100\n",
            "3/3 [==============================] - 0s 4ms/step - loss: 0.2900 - accuracy: 0.9241\n",
            "Epoch 83/100\n",
            "3/3 [==============================] - 0s 4ms/step - loss: 0.2847 - accuracy: 0.9241\n",
            "Epoch 84/100\n",
            "3/3 [==============================] - 0s 4ms/step - loss: 0.2792 - accuracy: 0.9241\n",
            "Epoch 85/100\n",
            "3/3 [==============================] - 0s 3ms/step - loss: 0.2745 - accuracy: 0.9241\n",
            "Epoch 86/100\n",
            "3/3 [==============================] - 0s 3ms/step - loss: 0.2697 - accuracy: 0.9241\n",
            "Epoch 87/100\n",
            "3/3 [==============================] - 0s 4ms/step - loss: 0.2655 - accuracy: 0.9241\n",
            "Epoch 88/100\n",
            "3/3 [==============================] - 0s 4ms/step - loss: 0.2609 - accuracy: 0.9241\n",
            "Epoch 89/100\n",
            "3/3 [==============================] - 0s 4ms/step - loss: 0.2565 - accuracy: 0.9241\n",
            "Epoch 90/100\n",
            "3/3 [==============================] - 0s 4ms/step - loss: 0.2525 - accuracy: 0.9241\n",
            "Epoch 91/100\n",
            "3/3 [==============================] - 0s 4ms/step - loss: 0.2487 - accuracy: 0.9241\n",
            "Epoch 92/100\n",
            "3/3 [==============================] - 0s 3ms/step - loss: 0.2451 - accuracy: 0.9241\n",
            "Epoch 93/100\n",
            "3/3 [==============================] - 0s 4ms/step - loss: 0.2412 - accuracy: 0.9241\n",
            "Epoch 94/100\n",
            "3/3 [==============================] - 0s 4ms/step - loss: 0.2388 - accuracy: 0.9241\n",
            "Epoch 95/100\n",
            "3/3 [==============================] - 0s 3ms/step - loss: 0.2349 - accuracy: 0.9241\n",
            "Epoch 96/100\n",
            "3/3 [==============================] - 0s 4ms/step - loss: 0.2319 - accuracy: 0.9241\n",
            "Epoch 97/100\n",
            "3/3 [==============================] - 0s 5ms/step - loss: 0.2288 - accuracy: 0.9241\n",
            "Epoch 98/100\n",
            "3/3 [==============================] - 0s 3ms/step - loss: 0.2263 - accuracy: 0.9241\n",
            "Epoch 99/100\n",
            "3/3 [==============================] - 0s 4ms/step - loss: 0.2241 - accuracy: 0.9241\n",
            "Epoch 100/100\n",
            "3/3 [==============================] - 0s 4ms/step - loss: 0.2208 - accuracy: 0.9241\n"
          ]
        }
      ]
    },
    {
      "cell_type": "code",
      "source": [
        "acc = history.history['accuracy']\n",
        "loss = history.history['loss']"
      ],
      "metadata": {
        "id": "_0ffThnmgGFy"
      },
      "execution_count": 413,
      "outputs": []
    },
    {
      "cell_type": "code",
      "source": [
        "print(f'Accuracy of ANN is {round(acc[-1] * 100, 2)}%')\n",
        "print(f'Loss of ANN is {loss[-1]}')"
      ],
      "metadata": {
        "colab": {
          "base_uri": "https://localhost:8080/"
        },
        "id": "0kcfi-GqjJ-X",
        "outputId": "acca8a49-301a-4aed-e421-590716de6d39"
      },
      "execution_count": 414,
      "outputs": [
        {
          "output_type": "stream",
          "name": "stdout",
          "text": [
            "Accuracy of ANN is 92.41%\n",
            "Loss of ANN is 0.22082816064357758\n"
          ]
        }
      ]
    },
    {
      "cell_type": "code",
      "source": [
        "fig, ax = plt.subplots(1, 2, figsize=(12, 4))\n",
        "\n",
        "# Plot training accuracy\n",
        "ax[0].plot(acc,color='orange')\n",
        "ax[0].set_title('Accuracy')\n",
        "ax[0].set_xlabel('Epochs')\n",
        "ax[0].set_ylabel('Accuracy')\n",
        "\n",
        "# Plot training loss\n",
        "ax[1].plot(loss)\n",
        "ax[1].set_title('Loss')\n",
        "ax[1].set_xlabel('Epochs')\n",
        "ax[1].set_ylabel('Loss')\n",
        "\n",
        "plt.show()"
      ],
      "metadata": {
        "colab": {
          "base_uri": "https://localhost:8080/",
          "height": 410
        },
        "id": "9dh1lE6-g-ge",
        "outputId": "3790948b-ef11-4a03-b9ff-4adb86ddfdec"
      },
      "execution_count": 420,
      "outputs": [
        {
          "output_type": "display_data",
          "data": {
            "text/plain": [
              "<Figure size 1200x400 with 2 Axes>"
            ],
            "image/png": "[encoded data removed]"
          },
          "metadata": {}
        }
      ]
    }
  ]
}